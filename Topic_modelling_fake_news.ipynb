{
  "nbformat": 4,
  "nbformat_minor": 0,
  "metadata": {
    "colab": {
      "name": "Topic_modelling_fake_news.ipynb",
      "provenance": [],
      "toc_visible": true,
      "authorship_tag": "ABX9TyNDm+N31gmEeKiFGni+M6pK",
      "include_colab_link": true
    },
    "kernelspec": {
      "name": "python3",
      "display_name": "Python 3"
    }
  },
  "cells": [
    {
      "cell_type": "markdown",
      "metadata": {
        "id": "view-in-github",
        "colab_type": "text"
      },
      "source": [
        "<a href=\"https://colab.research.google.com/github/Sandeep0076/Dark-web-text-analysis/blob/main/Topic_modelling_fake_news.ipynb\" target=\"_parent\"><img src=\"https://colab.research.google.com/assets/colab-badge.svg\" alt=\"Open In Colab\"/></a>"
      ]
    },
    {
      "cell_type": "markdown",
      "metadata": {
        "id": "w_t89SR2lFKy"
      },
      "source": [
        "## Imports"
      ]
    },
    {
      "cell_type": "code",
      "metadata": {
        "id": "BJlOuLW_jSQB",
        "colab": {
          "base_uri": "https://localhost:8080/"
        },
        "outputId": "7b5f63dd-51a9-4f47-c286-00473d88fe83"
      },
      "source": [
        "\n",
        "from google.colab import drive\n",
        "drive.mount(\"/content/Gdrive\")\n"
      ],
      "execution_count": null,
      "outputs": [
        {
          "output_type": "stream",
          "text": [
            "Mounted at /content/Gdrive\n"
          ],
          "name": "stdout"
        }
      ]
    },
    {
      "cell_type": "code",
      "metadata": {
        "id": "bfOPzOKYwf0-"
      },
      "source": [
        "import pandas as pd"
      ],
      "execution_count": null,
      "outputs": []
    },
    {
      "cell_type": "code",
      "metadata": {
        "id": "R6FBMmcXwXhO"
      },
      "source": [
        "file_location=\"/content/Gdrive/My Drive/covid19_news_dataset.csv\"\n",
        "df = pd.read_csv(file_location)"
      ],
      "execution_count": null,
      "outputs": []
    },
    {
      "cell_type": "code",
      "metadata": {
        "id": "emG-HXiTwsqm",
        "colab": {
          "base_uri": "https://localhost:8080/",
          "height": 174
        },
        "outputId": "f69e2cce-45e8-4571-f97b-5d422d6e9428"
      },
      "source": [
        "df.head(2)"
      ],
      "execution_count": null,
      "outputs": [
        {
          "output_type": "execute_result",
          "data": {
            "text/html": [
              "<div>\n",
              "<style scoped>\n",
              "    .dataframe tbody tr th:only-of-type {\n",
              "        vertical-align: middle;\n",
              "    }\n",
              "\n",
              "    .dataframe tbody tr th {\n",
              "        vertical-align: top;\n",
              "    }\n",
              "\n",
              "    .dataframe thead th {\n",
              "        text-align: right;\n",
              "    }\n",
              "</style>\n",
              "<table border=\"1\" class=\"dataframe\">\n",
              "  <thead>\n",
              "    <tr style=\"text-align: right;\">\n",
              "      <th></th>\n",
              "      <th>date</th>\n",
              "      <th>title</th>\n",
              "      <th>body</th>\n",
              "      <th>url</th>\n",
              "      <th>fact_check</th>\n",
              "      <th>label</th>\n",
              "    </tr>\n",
              "  </thead>\n",
              "  <tbody>\n",
              "    <tr>\n",
              "      <th>0</th>\n",
              "      <td>29/02/2020</td>\n",
              "      <td>112 Wuhan evacuees sheltered at ITBP quarantin...</td>\n",
              "      <td>this story is from February 29, 2020\\n112 Wuha...</td>\n",
              "      <td>https://timesofindia.indiatimes.com/india/112-...</td>\n",
              "      <td>https://www.mywot.com/,  Trustworthiness : 81 ...</td>\n",
              "      <td>High probability real</td>\n",
              "    </tr>\n",
              "    <tr>\n",
              "      <th>1</th>\n",
              "      <td>23/03/2020</td>\n",
              "      <td>Which corona species are you? - Times of India</td>\n",
              "      <td>Which corona species are you?\\nSmall\\nMar 21, ...</td>\n",
              "      <td>https://timesofindia.indiatimes.com/india/whic...</td>\n",
              "      <td>https://www.mywot.com/,  Trustworthiness : 81 ...</td>\n",
              "      <td>High probability real</td>\n",
              "    </tr>\n",
              "  </tbody>\n",
              "</table>\n",
              "</div>"
            ],
            "text/plain": [
              "         date  ...                  label\n",
              "0  29/02/2020  ...  High probability real\n",
              "1  23/03/2020  ...  High probability real\n",
              "\n",
              "[2 rows x 6 columns]"
            ]
          },
          "metadata": {
            "tags": []
          },
          "execution_count": 4
        }
      ]
    },
    {
      "cell_type": "markdown",
      "metadata": {
        "id": "GDzOFLWkw6aW"
      },
      "source": [
        "## Data Cleaning"
      ]
    },
    {
      "cell_type": "code",
      "metadata": {
        "id": "zNdfNav1wuZd"
      },
      "source": [
        "df = df.drop(columns=['date', 'title', 'url', \n",
        "                             'fact_check', 'label'], axis=1)\n",
        "df = df.dropna()"
      ],
      "execution_count": null,
      "outputs": []
    },
    {
      "cell_type": "code",
      "metadata": {
        "id": "DMF1hK15xLuE"
      },
      "source": [
        "df = df.sample(1000)"
      ],
      "execution_count": null,
      "outputs": []
    },
    {
      "cell_type": "code",
      "metadata": {
        "id": "VHFUbPlbKdgC"
      },
      "source": [
        "df1 = df[df['label']=='fake']"
      ],
      "execution_count": null,
      "outputs": []
    },
    {
      "cell_type": "code",
      "metadata": {
        "id": "TY4zf47Qx_eO"
      },
      "source": [
        "def clean_txt(text):\n",
        "        \"\"\" Remove special characters from text \"\"\"\n",
        "\n",
        "        text = re.sub(\"'\", \"\", text)\n",
        "        text = re.sub(\"(\\\\W)+\", \" \", text)\n",
        "        text = re.sub(r'[^A-Z-a-z. \\d/,]', '', text.lower())\n",
        "        text = ' '.join(text.split())\n",
        "        return text"
      ],
      "execution_count": null,
      "outputs": []
    },
    {
      "cell_type": "code",
      "metadata": {
        "id": "9tgFOlo3xXX8"
      },
      "source": [
        "# Load the regular expression library\n",
        "import re\n",
        "text = df.body.apply(clean_txt)"
      ],
      "execution_count": null,
      "outputs": []
    },
    {
      "cell_type": "code",
      "metadata": {
        "id": "2QxT-Vxkyqrd"
      },
      "source": [
        "text = text.tolist()"
      ],
      "execution_count": null,
      "outputs": []
    },
    {
      "cell_type": "markdown",
      "metadata": {
        "id": "pYR7CbK18bZp"
      },
      "source": [
        "## Tokenize words and further clean-up text"
      ]
    },
    {
      "cell_type": "code",
      "metadata": {
        "id": "6CfyhTf873Um",
        "colab": {
          "base_uri": "https://localhost:8080/"
        },
        "outputId": "a456eb2f-0bfc-43b8-a8fa-47d1bb9959dc"
      },
      "source": [
        "import gensim\n",
        "from gensim.utils import simple_preprocess\n",
        "def sent_to_words(sentences):\n",
        "    for sentence in sentences:\n",
        "        yield(gensim.utils.simple_preprocess(str(sentence), deacc=True))  # deacc=True removes punctuations\n",
        "data_words = list(sent_to_words(text))\n",
        "print(data_words[:1])"
      ],
      "execution_count": null,
      "outputs": [
        {
          "output_type": "stream",
          "text": [
            "[['the', 'chinese', 'doctor', 'who', 'attempted', 'to', 'warn', 'the', 'world', 'about', 'the', 'coronavirus', 'but', 'was', 'silenced', 'by', 'the', 'communist', 'government', 'police', 'having', 'succumbed', 'to', 'the', 'virus', 'himself', 'on', 'thursday', 'li', 'wenliang', 'who', 'was', 'an', 'ophthalmologist', 'working', 'at', 'wuhan', 'central', 'hospital', 'in', 'december', 'when', 'he', 'discovered', 'seven', 'patients', 'with', 'sars', 'like', 'symptoms', 'died', 'after', 'contracting', 'coronavirus', 'vice', 'com', 'reports', 'li', 'wenliang', 'was', 'an', 'opthamologist', 'working', 'at', 'wuhan', 'central', 'hospital', 'in', 'december', 'when', 'he', 'saw', 'test', 'results', 'that', 'showed', 'that', 'seven', 'patients', 'from', 'local', 'market', 'had', 'been', 'diagnosed', 'with', 'an', 'unknown', 'illness', 'that', 'looked', 'lot', 'like', 'sars', 'the', 'virus', 'that', 'killed', 'people', 'across', 'asia', 'in', 'he', 'tried', 'to', 'raise', 'the', 'alarm', 'among', 'friends', 'in', 'private', 'messaging', 'group', 'in', 'late', 'december', 'the', 'police', 'ordered', 'him', 'to', 'keep', 'quiet', 'he', 'went', 'back', 'to', 'work', 'on', 'the', 'front', 'lines', 'fighting', 'the', 'virus', 'and', 'like', 'tens', 'of', 'thousands', 'of', 'others', 'ended', 'up', 'contracting', 'it', 'himself', 'on', 'december', 'li', 'sent', 'message', 'to', 'his', 'medical', 'school', 'alumni', 'group', 'on', 'the', 'popular', 'chinese', 'messaging', 'app', 'wechat', 'telling', 'them', 'to', 'privately', 'warn', 'their', 'families', 'instead', 'screenshot', 'of', 'his', 'warning', 'was', 'posted', 'online', 'without', 'his', 'name', 'being', 'blurred', 'out', 'and', 'it', 'went', 'viral', 'within', 'hours', 'li', 'was', 'summoned', 'by', 'officials', 'at', 'his', 'hospital', 'to', 'explain', 'how', 'he', 'knew', 'about', 'the', 'tests', 'and', 'days', 'later', 'he', 'was', 'ordered', 'to', 'appear', 'at', 'his', 'local', 'police', 'station', 'where', 'he', 'was', 'warned', 'to', 'stop', 'spreading', 'rumors', 'and', 'forced', 'to', 'sign', 'statement', 'acknowledging', 'his', 'misdemeanor', 'and', 'promising', 'not', 'to', 'commit', 'further', 'unlawful', 'acts', 'we', 'solemnly', 'warn', 'you', 'if', 'you', 'keep', 'being', 'stubborn', 'with', 'such', 'impertinence', 'and', 'continue', 'this', 'illegal', 'activity', 'you', 'will', 'be', 'brought', 'to', 'justice', 'is', 'that', 'understood', 'the', 'statement', 'said', 'the', 'bbc', 'reports', 'on', 'jan', 'li', 'unwittingly', 'treated', 'patient', 'with', 'coronavirus', 'two', 'days', 'later', 'the', 'year', 'old', 'began', 'coughing', 'and', 'was', 'admitted', 'to', 'hospital', 'his', 'condition', 'deteriorated', 'and', 'days', 'later', 'he', 'was', 'admitted', 'to', 'intensive', 'care', 'he', 'was', 'diagnosed', 'with', 'the', 'coronavirus', 'on', 'feb', 'remember', 'himtie', 'his', 'name', 'to', 'your', 'memory', 'of', 'this', 'cruelly', 'ridiculous', 'time', 'pic', 'twitter', 'com', 'tj', 'utykbaf', 'shawn', 'yuan', 'shawnxyny', 'february', 'wuhan', 'central', 'hospital', 'announced', 'li', 'passing', 'on', 'its', 'official', 'weibo', 'account', 'in', 'the', 'fight', 'against', 'the', 'pneumonia', 'epidemic', 'of', 'the', 'new', 'coronavirus', 'infection', 'our', 'hospital', 'ophthalmologist', 'li', 'wenliang', 'was', 'unfortunately', 'infected', 'he', 'passed', 'away', 'after', 'all', 'the', 'efforts', 'we', 've', 'taken', 'to', 'resuscitate', 'him', 'we', 'deeply', 'mourn', 'his', 'passing', 'and', 'the', 'commies', 'have', 'continued', 'their', 'suppression', 'of', 'the', 'truth', 'about', 'the', 'coronavirus', 'and', 'arrested', 'other', 'doctors', 'and', 'threatened', 'bloggers', 'as', 'we', 'previously', 'reported', 'now', 'the', 'government', 'of', 'china', 'has', 'issued', 'harsh', 'warnings', 'to', 'silence', 'social', 'media', 'postings', 'from', 'users', 'who', 'are', 'trying', 'to', 'survive', 'the', 'quarantined', 'cities', 'which', 'now', 'encompass', 'over', 'million', 'mainland', 'chinese', 'as', 'the', 'epoch', 'times', 'reported', 'earlier', 'today', 'the', 'outbreak', 'of', 'wuhan', 'coronavirus', 'has', 'made', 'many', 'mainland', 'chinese', 'realize', 'that', 'the', 'chinese', 'communist', 'party', 'ccp', 'and', 'its', 'media', 'mouthpieces', 'do', 'not', 'tell', 'the', 'truth', 'or', 'tell', 'the', 'whole', 'story', 'social', 'media', 'users', 'in', 'wuhan', 'especially', 'doctors', 'and', 'nurses', 'share', 'their', 'experiences', 'and', 'post', 'videos', 'on', 'social', 'media', 'to', 'alert', 'everyone', 'of', 'the', 'true', 'situation', 'which', 'the', 'authorities', 'find', 'embarrassing', 'individuals', 'who', 'dare', 'to', 'report', 'the', 'truth', 'about', 'the', 'lack', 'of', 'supplies', 'or', 'the', 'true', 'numbers', 'of', 'coronavirus', 'infections', 'are', 'accused', 'of', 'spreading', 'rumors', 'tactic', 'that', 'smacks', 'of', 'big', 'tech', 'censorship', 'in', 'the', 'united', 'states', 'as', 'the', 'epoch', 'times', 'reports', 'about', 'this', 'warning', 'from', 'the', 'communist', 'chinese', 'regime', 'variety', 'of', 'unsubstantiated', 'comments', 'posted', 'to', 'the', 'internet', 'constantly', 'stir', 'up', 'public', 'panic', 'the', 'notice', 'read', 'all', 'those', 'who', 'spread', 'fake', 'news', 'and', 'thus', 'disturb', 'social', 'order', 'will', 'face', 'up', 'to', 'three', 'years', 'in', 'prison', 'detention', 'or', 'disciplinary', 'action', 'those', 'who', 'have', 'caused', 'serious', 'consequences', 'will', 'be', 'given', 'year', 'to', 'year', 'prison', 'terms', 'we', 'also', 'reported', 'on', 'wenliang', 'yet', 'last', 'december', 'before', 'people', 'all', 'over', 'china', 'were', 'falling', 'sick', 'with', 'pneumonia', 'like', 'symptoms', 'before', 'people', 'around', 'the', 'world', 'grew', 'alarmed', 'about', 'disease', 'leaping', 'from', 'captured', 'wild', 'animals', 'to', 'human', 'shoppers', 'in', 'dense', 'chinese', 'food', 'markets', 'and', 'before', 'coronavirus', 'reached', 'new', 'shores', 'after', 'being', 'carried', 'onto', 'planes', 'by', 'human', 'hosts', 'forcing', 'the', 'world', 'health', 'organization', 'to', 'declare', 'global', 'emergency', 'eight', 'people', 'discussed', 'how', 'several', 'patients', 'in', 'wuhan', 'were', 'experiencing', 'severe', 'rapid', 'breakdowns', 'in', 'their', 'respiratory', 'systems', 'they', 'were', 'part', 'of', 'medical', 'school', 'alumni', 'group', 'on', 'wechat', 'popular', 'social', 'network', 'in', 'china', 'and', 'they', 'were', 'concerned', 'that', 'sars', 'severe', 'acute', 'respiratory', 'syndrome', 'was', 'back', 'it', 'wasn', 'long', 'before', 'police', 'detained', 'them', 'the', 'authorities', 'said', 'these', 'eight', 'doctors', 'and', 'medical', 'technicians', 'were', 'misinforming', 'the', 'public', 'that', 'there', 'was', 'no', 'sars', 'that', 'the', 'information', 'was', 'obviously', 'wrong', 'and', 'that', 'everyone', 'in', 'the', 'city', 'must', 'remain', 'calm', 'on', 'the', 'first', 'day', 'of', 'wuhan', 'police', 'said', 'they', 'had', 'taken', 'legal', 'measures', 'against', 'the', 'eight', 'individuals', 'who', 'had', 'spread', 'rumors', 'since', 'then', 'the', 'phenomenal', 'spread', 'of', 'the', 'virus', 'has', 'created', 'cracks', 'even', 'within', 'the', 'normally', 'united', 'front', 'of', 'the', 'chinese', 'communist', 'party', 'it', 'might', 'have', 'been', 'fortunate', 'if', 'the', 'public', 'had', 'believed', 'the', 'rumor', 'and', 'started', 'to', 'wear', 'masks', 'carry', 'out', 'sanitization', 'measures', 'and', 'avoid', 'the', 'wild', 'animal', 'market', 'judge', 'of', 'china', 'supreme', 'people', 'court', 'wrote', 'online', 'last', 'tuesday', 'li', 'wenliang', 'doctor', 'who', 'was', 'among', 'the', 'eight', 'people', 'who', 'tried', 'to', 'sound', 'the', 'alarm', 'before', 'the', 'coronavirus', 'infected', 'many', 'thousands', 'and', 'killed', 'hundreds', 'has', 'been', 'diagnosed', 'as', 'someone', 'infected', 'with', 'the', 'coronavirus', 'and', 'is', 'being', 'treated', 'at', 'hospital', 'now', 'he', 'has', 'died', 'consider', 'him', 'hero', 'for', 'attempting', 'to', 'speak', 'the', 'truth', 'and', 'to', 'help', 'his', 'fellow', 'man', 'but', 'it', 'was', 'communists', 'who', 'silenced', 'him', 'and', 'now', 'his', 'death', 'and', 'the', 'untold', 'number', 'of', 'people', 'blood', 'who', 'are', 'dying', 'from', 'this', 'virus', 'are', 'on', 'their', 'hands', 'article', 'posted', 'with', 'permission', 'from', 'sons', 'of', 'liberty', 'media']]\n"
          ],
          "name": "stdout"
        }
      ]
    },
    {
      "cell_type": "markdown",
      "metadata": {
        "id": "R1ENqjKA8vEx"
      },
      "source": [
        "## Phrase Modeling: Bi-grams and Tri-grams"
      ]
    },
    {
      "cell_type": "code",
      "metadata": {
        "id": "81o_8nnH8wFL",
        "colab": {
          "base_uri": "https://localhost:8080/"
        },
        "outputId": "22d21684-c72e-4737-d504-5e5dad59ac38"
      },
      "source": [
        "# Build the bigram and trigram models\n",
        "bigram = gensim.models.Phrases(data_words, min_count=5, threshold=100) # higher threshold fewer phrases.\n",
        "trigram = gensim.models.Phrases(bigram[data_words], threshold=100)\n",
        "# Faster way to get a sentence clubbed as a trigram/bigram\n",
        "bigram_mod = gensim.models.phrases.Phraser(bigram)\n",
        "trigram_mod = gensim.models.phrases.Phraser(trigram)"
      ],
      "execution_count": null,
      "outputs": [
        {
          "output_type": "stream",
          "text": [
            "/usr/local/lib/python3.6/dist-packages/gensim/models/phrases.py:598: UserWarning: For a faster implementation, use the gensim.models.phrases.Phraser class\n",
            "  warnings.warn(\"For a faster implementation, use the gensim.models.phrases.Phraser class\")\n"
          ],
          "name": "stderr"
        }
      ]
    },
    {
      "cell_type": "markdown",
      "metadata": {
        "id": "kxmGr0Rf-qVK"
      },
      "source": [
        "## Remove Stopwords, Make Bigrams and Lemmatize"
      ]
    },
    {
      "cell_type": "code",
      "metadata": {
        "id": "0P5IxBmJ9oIn",
        "colab": {
          "base_uri": "https://localhost:8080/"
        },
        "outputId": "da8c8432-970e-4cfc-c99c-99e4f06f879d"
      },
      "source": [
        "# NLTK Stop words\n",
        "import nltk\n",
        "nltk.download('stopwords')\n",
        "from nltk.corpus import stopwords\n",
        "stop_words = stopwords.words('english')\n",
        "stop_words.extend(['from', 'subject', 'fake', 'news'])\n",
        "# Define functions for stopwords, bigrams, trigrams and lemmatization\n",
        "def remove_stopwords(texts):\n",
        "    return [[word for word in simple_preprocess(str(doc)) if word not in stop_words] for doc in texts]\n",
        "def make_bigrams(texts):\n",
        "    return [bigram_mod[doc] for doc in texts]\n",
        "def make_trigrams(texts):\n",
        "    return [trigram_mod[bigram_mod[doc]] for doc in texts]\n",
        "def lemmatization(texts, allowed_postags=['NOUN', 'ADJ', 'VERB', 'ADV']):\n",
        "    \"\"\"https://spacy.io/api/annotation\"\"\"\n",
        "    texts_out = []\n",
        "    for sent in texts:\n",
        "        doc = nlp(\" \".join(sent)) \n",
        "        texts_out.append([token.lemma_ for token in doc if token.pos_ in allowed_postags])\n",
        "    return texts_out"
      ],
      "execution_count": null,
      "outputs": [
        {
          "output_type": "stream",
          "text": [
            "[nltk_data] Downloading package stopwords to /root/nltk_data...\n",
            "[nltk_data]   Unzipping corpora/stopwords.zip.\n"
          ],
          "name": "stdout"
        }
      ]
    },
    {
      "cell_type": "code",
      "metadata": {
        "id": "-MNydwRK_VFJ",
        "colab": {
          "base_uri": "https://localhost:8080/"
        },
        "outputId": "fdccdf7e-fe0a-4282-994f-4b977dc34994"
      },
      "source": [
        "import spacy\n",
        "# Remove Stop Words\n",
        "data_words_nostops = remove_stopwords(data_words)\n",
        "# Form Bigrams\n",
        "data_words_bigrams = make_bigrams(data_words_nostops)\n",
        "# Initialize spacy 'en' model, keeping only tagger component (for efficiency)\n",
        "nlp = spacy.load(\"en_core_web_sm\", disable=['parser', 'ner'])\n",
        "# Do lemmatization keeping only noun, adj, vb, adv\n",
        "data_lemmatized = lemmatization(data_words_bigrams, allowed_postags=['NOUN', 'ADJ', 'VERB', 'ADV'])\n",
        "print(data_lemmatized[:1])"
      ],
      "execution_count": null,
      "outputs": [
        {
          "output_type": "stream",
          "text": [
            "[['chinese', 'doctor', 'attempt', 'silence', 'communist', 'government', 'police', 'succumb', 'virus', 'ophthalmologist', 'work', 'discover', 'patient', 'sar', 'symptom', 'die', 'contract', 'com', 'report', 'opthamologist', 'work', 'see', 'test', 'result', 'show', 'patient', 'local', 'market', 'diagnose', 'unknown', 'illness', 'look', 'lot', 'virus', 'kill', 'people', 'try', 'raise', 'alarm', 'friend', 'private', 'messaging', 'group', 'late', 'police', 'order', 'keep', 'quiet', 'go', 'back', 'work', 'front_line', 'fight', 'virus', 'ten', 'thousand', 'other', 'end', 'contract', 'send', 'school', 'alumnus', 'popular', 'chinese', 'messaging', 'app', 'tell', 'privately', 'warn', 'family', 'instead', 'screenshot', 'warning', 'post', 'online', 'name', 'blur', 'go', 'viral', 'hour', 'summon', 'official', 'hospital', 'explain', 'know', 'test', 'day', 'later', 'order', 'appear', 'local', 'police', 'station', 'warn', 'stop', 'spread', 'rumor', 'force', 'sign', 'statement', 'acknowledge', 'misdemeanor', 'promise', 'commit', 'unlawful', 'act', 'solemnly', 'warn', 'keep', 'stubborn', 'impertinence', 'continue', 'illegal', 'activity', 'bring', 'justice', 'understand', 'statement', 'say', 'report', 'unwittingly', 'treat', 'patient', 'day', 'later', 'begin', 'cough', 'admit', 'hospital', 'condition', 'deteriorate', 'day', 'later', 'admit', 'diagnose', 'memory', 'cruelly', 'ridiculous', 'time', 'com', 'announce', 'pass', 'official', 'account', 'ophthalmologist', 'unfortunately', 'infect', 'pass', 'effort', 'take', 'resuscitate', 'deeply', 'mourn', 'pass', 'commie', 'continue', 'suppression', 'truth', 'arrest', 'doctor', 'threaten', 'blogger', 'previously', 'report', 'government', 'issue', 'harsh', 'warning', 'silence', 'posting', 'user', 'try', 'survive', 'quarantine', 'city', 'encompass', 'mainland', 'report', 'earlier', 'today', 'outbreak', 'make', 'many', 'mainland', 'realize', 'party', 'medium', 'mouthpiece', 'tell', 'truth', 'tell', 'whole', 'story', 'user', 'especially', 'doctor', 'nurse', 'share', 'experience', 'post', 'video', 'alert', 'true', 'situation', 'authority', 'find', 'embarrassing', 'individual', 'dare', 'report', 'truth', 'lack', 'supply', 'true', 'number', 'infection', 'accuse', 'spread', 'rumor', 'tactic', 'smack', 'censorship', 'report', 'warn', 'communist', 'chinese', 'regime', 'variety', 'unsubstantiated', 'comment', 'post', 'internet', 'constantly', 'stir', 'public', 'panic', 'notice', 'read', 'spread', 'thus', 'disturb', 'social', 'order', 'face', 'year', 'prison', 'detention', 'disciplinary', 'action', 'cause', 'serious', 'consequence', 'give', 'year', 'year', 'prison', 'term', 'also', 'report', 'last', 'people', 'fall', 'sick', 'pneumonia', 'symptom', 'people', 'world', 'grow', 'alarmed', 'disease', 'leaping', 'capture', 'wild', 'animal', 'human', 'shopper', 'dense', 'chinese', 'food', 'market', 'reach', 'new', 'shore', 'carry', 'plane', 'human', 'host', 'force', 'world', 'declare', 'global', 'emergency', 'people', 'discuss', 'several', 'patient', 'experience', 'severe', 'rapid', 'medical', 'school', 'alumnus', 'popular', 'social', 'network', 'concern', 'long', 'police', 'detain', 'authority', 'say', 'doctor', 'medical', 'technician', 'misinform', 'public', 'information', 'obviously', 'wrong', 'city', 'must', 'remain', 'calm', 'first', 'day', 'police', 'say', 'take', 'legal', 'measure', 'individual', 'spread', 'rumor', 'phenomenal', 'spread', 'virus', 'create', 'crack', 'even', 'normally', 'united', 'may', 'fortunate', 'public', 'believe', 'rumor', 'start', 'carry', 'sanitization', 'measure', 'avoid', 'wild', 'animal', 'market', 'write', 'online', 'last', 'doctor', 'people', 'try', 'sound', 'alarm', 'infect', 'many', 'thousand', 'kill', 'hundred', 'diagnose', 'infect', 'treat', 'hospital', 'die', 'consider', 'hero', 'attempt', 'speak', 'truth', 'help', 'fellow', 'man', 'communist', 'silence', 'death', 'untold', 'number', 'people', 'blood', 'die', 'virus', 'hand', 'article_poste', 'permission', 'son']]\n"
          ],
          "name": "stdout"
        }
      ]
    },
    {
      "cell_type": "markdown",
      "metadata": {
        "id": "OlLF_EkZ_qF5"
      },
      "source": [
        "## Data Transformation: Corpus and Dictionary"
      ]
    },
    {
      "cell_type": "code",
      "metadata": {
        "id": "ZlWOO2pE_q33",
        "colab": {
          "base_uri": "https://localhost:8080/"
        },
        "outputId": "e84bbb81-5e65-45da-a033-272473c5e776"
      },
      "source": [
        "import gensim.corpora as corpora\n",
        "# Create Dictionary\n",
        "id2word = corpora.Dictionary(data_lemmatized)\n",
        "# Create Corpus\n",
        "texts = data_lemmatized\n",
        "# Term Document Frequency\n",
        "corpus = [id2word.doc2bow(text) for text in texts]\n",
        "# View\n",
        "print(corpus[:1])"
      ],
      "execution_count": null,
      "outputs": [
        {
          "output_type": "stream",
          "text": [
            "[[(0, 1), (1, 1), (2, 1), (3, 1), (4, 1), (5, 1), (6, 2), (7, 2), (8, 1), (9, 1), (10, 1), (11, 2), (12, 2), (13, 1), (14, 1), (15, 1), (16, 1), (17, 1), (18, 2), (19, 2), (20, 1), (21, 1), (22, 1), (23, 1), (24, 1), (25, 1), (26, 1), (27, 1), (28, 1), (29, 1), (30, 2), (31, 1), (32, 1), (33, 4), (34, 2), (35, 2), (36, 1), (37, 1), (38, 1), (39, 3), (40, 1), (41, 1), (42, 1), (43, 1), (44, 1), (45, 2), (46, 2), (47, 1), (48, 1), (49, 1), (50, 1), (51, 1), (52, 4), (53, 1), (54, 1), (55, 1), (56, 1), (57, 1), (58, 1), (59, 1), (60, 3), (61, 3), (62, 1), (63, 1), (64, 1), (65, 1), (66, 1), (67, 5), (68, 1), (69, 1), (70, 1), (71, 1), (72, 1), (73, 1), (74, 1), (75, 1), (76, 2), (77, 1), (78, 1), (79, 1), (80, 1), (81, 1), (82, 1), (83, 1), (84, 1), (85, 1), (86, 2), (87, 1), (88, 1), (89, 1), (90, 1), (91, 1), (92, 2), (93, 2), (94, 1), (95, 1), (96, 1), (97, 1), (98, 1), (99, 1), (100, 3), (101, 1), (102, 1), (103, 2), (104, 1), (105, 1), (106, 1), (107, 1), (108, 2), (109, 3), (110, 1), (111, 1), (112, 1), (113, 1), (114, 1), (115, 1), (116, 2), (117, 2), (118, 1), (119, 1), (120, 2), (121, 1), (122, 3), (123, 1), (124, 1), (125, 2), (126, 1), (127, 1), (128, 1), (129, 2), (130, 1), (131, 1), (132, 2), (133, 3), (134, 1), (135, 2), (136, 2), (137, 1), (138, 1), (139, 2), (140, 1), (141, 1), (142, 1), (143, 1), (144, 1), (145, 1), (146, 1), (147, 1), (148, 1), (149, 1), (150, 2), (151, 1), (152, 1), (153, 2), (154, 2), (155, 2), (156, 1), (157, 3), (158, 1), (159, 1), (160, 1), (161, 1), (162, 3), (163, 4), (164, 6), (165, 1), (166, 1), (167, 1), (168, 1), (169, 5), (170, 2), (171, 3), (172, 1), (173, 1), (174, 2), (175, 1), (176, 1), (177, 1), (178, 3), (179, 1), (180, 1), (181, 1), (182, 1), (183, 1), (184, 1), (185, 1), (186, 1), (187, 1), (188, 7), (189, 1), (190, 1), (191, 1), (192, 4), (193, 1), (194, 1), (195, 3), (196, 2), (197, 1), (198, 1), (199, 1), (200, 1), (201, 1), (202, 1), (203, 1), (204, 1), (205, 1), (206, 1), (207, 1), (208, 1), (209, 3), (210, 1), (211, 1), (212, 2), (213, 1), (214, 1), (215, 1), (216, 1), (217, 5), (218, 1), (219, 2), (220, 1), (221, 1), (222, 1), (223, 1), (224, 1), (225, 1), (226, 1), (227, 1), (228, 1), (229, 1), (230, 2), (231, 1), (232, 2), (233, 1), (234, 3), (235, 1), (236, 1), (237, 2), (238, 2), (239, 1), (240, 1), (241, 1), (242, 1), (243, 2), (244, 2), (245, 4), (246, 3), (247, 1), (248, 1), (249, 1), (250, 1), (251, 1), (252, 1), (253, 1), (254, 1), (255, 2), (256, 1), (257, 1), (258, 1), (259, 5), (260, 4), (261, 2), (262, 1), (263, 2), (264, 3), (265, 2), (266, 1), (267, 1), (268, 3)]]\n"
          ],
          "name": "stdout"
        }
      ]
    },
    {
      "cell_type": "markdown",
      "metadata": {
        "id": "n0vwP-oq0pWZ"
      },
      "source": [
        "## Base Model"
      ]
    },
    {
      "cell_type": "code",
      "metadata": {
        "id": "EFrjwkbG0ozK"
      },
      "source": [
        "lda_model = gensim.models.LdaMulticore(corpus=corpus,\n",
        "                                       id2word=id2word,\n",
        "                                       num_topics=6, \n",
        "                                       random_state=100,\n",
        "                                       chunksize=100,\n",
        "                                       passes=10,\n",
        "                                       per_word_topics=True)"
      ],
      "execution_count": null,
      "outputs": []
    },
    {
      "cell_type": "markdown",
      "metadata": {
        "id": "vmhKdNNT3Y8r"
      },
      "source": [
        "## View the topics in LDA model"
      ]
    },
    {
      "cell_type": "code",
      "metadata": {
        "id": "qzfd7o6q3aV3",
        "colab": {
          "base_uri": "https://localhost:8080/"
        },
        "outputId": "b9173818-152e-40c8-a4e3-bf3e1dcc5e9f"
      },
      "source": [
        "from pprint import pprint\n",
        "# Print the Keyword in the 6 topics\n",
        "pprint(lda_model.print_topics())\n",
        "doc_lda = lda_model[corpus]"
      ],
      "execution_count": null,
      "outputs": [
        {
          "output_type": "stream",
          "text": [
            "[(0,\n",
            "  '0.018*\"say\" + 0.014*\"people\" + 0.012*\"case\" + 0.010*\"virus\" + '\n",
            "  '0.009*\"report\" + 0.008*\"state\" + 0.008*\"official\" + 0.007*\"government\" + '\n",
            "  '0.006*\"also\" + 0.006*\"chinese\"'),\n",
            " (1,\n",
            "  '0.016*\"people\" + 0.013*\"test\" + 0.010*\"number\" + 0.010*\"death\" + '\n",
            "  '0.007*\"virus\" + 0.007*\"get\" + 0.007*\"infection\" + 0.007*\"day\" + '\n",
            "  '0.007*\"spread\" + 0.007*\"even\"'),\n",
            " (2,\n",
            "  '0.015*\"vaccine\" + 0.012*\"patient\" + 0.011*\"study\" + 0.010*\"covid\" + '\n",
            "  '0.009*\"virus\" + 0.008*\"new\" + 0.008*\"use\" + 0.007*\"also\" + 0.006*\"may\" + '\n",
            "  '0.006*\"treatment\"'),\n",
            " (3,\n",
            "  '0.029*\"say\" + 0.012*\"country\" + 0.009*\"report\" + 0.008*\"week\" + '\n",
            "  '0.008*\"also\" + 0.007*\"year\" + 0.007*\"number\" + 0.007*\"case\" + 0.007*\"virus\" '\n",
            "  '+ 0.006*\"people\"'),\n",
            " (4,\n",
            "  '0.011*\"say\" + 0.009*\"government\" + 0.006*\"time\" + 0.006*\"go\" + 0.006*\"make\" '\n",
            "  '+ 0.006*\"would\" + 0.005*\"people\" + 0.005*\"take\" + 0.005*\"even\" + '\n",
            "  '0.005*\"pay\"'),\n",
            " (5,\n",
            "  '0.017*\"say\" + 0.010*\"people\" + 0.007*\"work\" + 0.007*\"go\" + '\n",
            "  '0.007*\"government\" + 0.007*\"home\" + 0.007*\"may\" + 0.006*\"would\" + '\n",
            "  '0.006*\"need\" + 0.006*\"also\"')]\n"
          ],
          "name": "stdout"
        }
      ]
    },
    {
      "cell_type": "markdown",
      "metadata": {
        "id": "IWqgsA1u3y7y"
      },
      "source": [
        "## Compute Model Perplexity and Coherence Score"
      ]
    },
    {
      "cell_type": "code",
      "metadata": {
        "id": "1cTvn5IR3yVx",
        "colab": {
          "base_uri": "https://localhost:8080/"
        },
        "outputId": "42fb5990-b641-424a-c6e9-c91375416abb"
      },
      "source": [
        "from gensim.models import CoherenceModel\n",
        "# Compute Coherence Score\n",
        "coherence_model_lda = CoherenceModel(model=lda_model, texts=data_lemmatized, dictionary=id2word, coherence='c_v')\n",
        "coherence_lda = coherence_model_lda.get_coherence()\n",
        "print('\\nCoherence Score: ', coherence_lda)"
      ],
      "execution_count": null,
      "outputs": [
        {
          "output_type": "stream",
          "text": [
            "\n",
            "Coherence Score:  0.3655931485785618\n"
          ],
          "name": "stdout"
        }
      ]
    },
    {
      "cell_type": "code",
      "metadata": {
        "id": "J0aV09p97KZZ"
      },
      "source": [
        "! pip install pyLDAvis\n",
        "import pyLDAvis.gensim\n",
        "import pickle \n",
        "import pyLDAvis\n",
        "# Visualize the topics\n",
        "pyLDAvis.enable_notebook()\n",
        "LDAvis_prepared = pyLDAvis.gensim.prepare(lda_model, corpus, id2word)\n",
        "LDAvis_prepared"
      ],
      "execution_count": null,
      "outputs": []
    },
    {
      "cell_type": "markdown",
      "metadata": {
        "id": "lQZOh0n7PpNH"
      },
      "source": [
        "## Building LDA Mallet Model\n",
        "So far you have seen Gensim’s inbuilt version of the LDA algorithm. Mallet’s version, however, often gives a better quality of topics."
      ]
    },
    {
      "cell_type": "code",
      "metadata": {
        "id": "k_P39OaYPqSM",
        "colab": {
          "base_uri": "https://localhost:8080/"
        },
        "outputId": "e3b4fe60-2165-49e0-c3c5-a054309c16fc"
      },
      "source": [
        "# Download File: http://mallet.cs.umass.edu/dist/mallet-2.0.8.zip\n",
        "import urllib, os, time, tarfile\n",
        "url='http://mallet.cs.umass.edu/dist/mallet-2.0.8.tar.gz'\n",
        "filename = 'malletfile'\n",
        "urllib.request.urlretrieve(url, filename)"
      ],
      "execution_count": null,
      "outputs": [
        {
          "output_type": "execute_result",
          "data": {
            "text/plain": [
              "('malletfile', <http.client.HTTPMessage at 0x7f15c9752898>)"
            ]
          },
          "metadata": {
            "tags": []
          },
          "execution_count": 59
        }
      ]
    },
    {
      "cell_type": "code",
      "metadata": {
        "id": "rJVbxwgJQXEW"
      },
      "source": [
        "with tarfile.open(filename, \"r:gz\") as tar:\n",
        "    tar.extractall()"
      ],
      "execution_count": null,
      "outputs": []
    },
    {
      "cell_type": "code",
      "metadata": {
        "id": "TZMFTk_GQKb2",
        "colab": {
          "base_uri": "https://localhost:8080/"
        },
        "outputId": "8aab402f-6aef-44f8-87e7-1eeeede34786"
      },
      "source": [
        "mallet_path = '/content/mallet-2.0.8/bin/mallet'\n",
        "ldamallet = gensim.models.wrappers.LdaMallet(mallet_path, corpus=corpus, num_topics=5, id2word=id2word)"
      ],
      "execution_count": null,
      "outputs": [
        {
          "output_type": "stream",
          "text": [
            "/usr/local/lib/python3.6/dist-packages/smart_open/smart_open_lib.py:418: DeprecationWarning: This function is deprecated.  See https://github.com/RaRe-Technologies/smart_open/blob/develop/MIGRATING_FROM_OLDER_VERSIONS.rst for more information\n",
            "  warnings.warn(message, category=DeprecationWarning)\n",
            "/usr/local/lib/python3.6/dist-packages/smart_open/smart_open_lib.py:418: DeprecationWarning: This function is deprecated.  See https://github.com/RaRe-Technologies/smart_open/blob/develop/MIGRATING_FROM_OLDER_VERSIONS.rst for more information\n",
            "  warnings.warn(message, category=DeprecationWarning)\n"
          ],
          "name": "stderr"
        }
      ]
    },
    {
      "cell_type": "code",
      "metadata": {
        "id": "dMWcWn-2RU_u",
        "colab": {
          "base_uri": "https://localhost:8080/"
        },
        "outputId": "c44b7732-a7f6-4587-814d-c36e650b9b5c"
      },
      "source": [
        "# Show Topics\n",
        "pprint(ldamallet.show_topics(formatted=False))"
      ],
      "execution_count": null,
      "outputs": [
        {
          "output_type": "stream",
          "text": [
            "[(0,\n",
            "  [('government', 0.009323165350410717),\n",
            "   ('people', 0.008508519834355412),\n",
            "   ('world', 0.007988051865764522),\n",
            "   ('call', 0.00739969677083569),\n",
            "   ('make', 0.007150777307596569),\n",
            "   ('chinese', 0.006336131791541264),\n",
            "   ('claim', 0.006064583286189496),\n",
            "   ('public', 0.0058609219071756695),\n",
            "   ('time', 0.005725147654499785),\n",
            "   ('trump', 0.005657260528161843)]),\n",
            " (1,\n",
            "  [('patient', 0.020474010106521792),\n",
            "   ('test', 0.016654409148062918),\n",
            "   ('covid', 0.015515646129391948),\n",
            "   ('virus', 0.014353158881165335),\n",
            "   ('study', 0.009798106806481459),\n",
            "   ('vaccine', 0.009726934117814523),\n",
            "   ('symptom', 0.00851699841047662),\n",
            "   ('show', 0.008208583426253233),\n",
            "   ('result', 0.008137410737586297),\n",
            "   ('find', 0.008066238048919361)]),\n",
            " (2,\n",
            "  [('year', 0.015404334100780898),\n",
            "   ('company', 0.012033894282120055),\n",
            "   ('economy', 0.010206261422705372),\n",
            "   ('month', 0.009755287080771878),\n",
            "   ('crisis', 0.009399254705561225),\n",
            "   ('business', 0.009161899788754124),\n",
            "   ('market', 0.008877073888585602),\n",
            "   ('expect', 0.008283686596567847),\n",
            "   ('week', 0.007880183237995775),\n",
            "   ('fall', 0.00719185397925518)]),\n",
            " (3,\n",
            "  [('work', 0.014790317394699371),\n",
            "   ('time', 0.014721418400624684),\n",
            "   ('home', 0.014514721418400624),\n",
            "   ('make', 0.010403748105277662),\n",
            "   ('day', 0.007969316981305406),\n",
            "   ('school', 0.007395158697349686),\n",
            "   ('place', 0.007027697395618024),\n",
            "   ('back', 0.006729135087961049),\n",
            "   ('people', 0.0064994717743787605),\n",
            "   ('stay', 0.006430572780304074)]),\n",
            " (4,\n",
            "  [('people', 0.03453777164539496),\n",
            "   ('case', 0.024943946188340806),\n",
            "   ('country', 0.02362883753018282),\n",
            "   ('number', 0.02175319075543291),\n",
            "   ('virus', 0.020761469472231803),\n",
            "   ('report', 0.019166091755777853),\n",
            "   ('death', 0.017764746464298035),\n",
            "   ('state', 0.017096412556053812),\n",
            "   ('spread', 0.016449637806140047),\n",
            "   ('health', 0.01358226974818903)])]\n"
          ],
          "name": "stdout"
        }
      ]
    },
    {
      "cell_type": "code",
      "metadata": {
        "id": "RSKHAwl2RrUX",
        "colab": {
          "base_uri": "https://localhost:8080/"
        },
        "outputId": "ce5d8e53-308d-45f5-aa0f-acb8f6e3e650"
      },
      "source": [
        "# Compute Coherence Score\n",
        "coherence_model_ldamallet = CoherenceModel(model=ldamallet, texts=data_lemmatized, dictionary=id2word, coherence='c_v')\n",
        "coherence_ldamallet = coherence_model_ldamallet.get_coherence()\n",
        "print('\\nCoherence Score: ', coherence_ldamallet)"
      ],
      "execution_count": null,
      "outputs": [
        {
          "output_type": "stream",
          "text": [
            "\n",
            "Coherence Score:  0.44287935163792574\n"
          ],
          "name": "stdout"
        }
      ]
    },
    {
      "cell_type": "code",
      "metadata": {
        "id": "8xJusfCqR-k2"
      },
      "source": [
        "find the optimal number of topics for LDA"
      ],
      "execution_count": null,
      "outputs": []
    },
    {
      "cell_type": "markdown",
      "metadata": {
        "id": "xg5Tt9XvR_aQ"
      },
      "source": [
        "## Find the optimal number of topics for LDA\n",
        "Find different values of number of topics (k) and pick the one that gives the highest coherence value."
      ]
    },
    {
      "cell_type": "code",
      "metadata": {
        "id": "mHGVqbZZSAX1"
      },
      "source": [
        "def compute_coherence_values(dictionary, corpus, texts, limit, start=2, step=3):\n",
        "    \"\"\"\n",
        "    Compute c_v coherence for various number of topics\n",
        "\n",
        "    Parameters:\n",
        "    ----------\n",
        "    dictionary : Gensim dictionary\n",
        "    corpus : Gensim corpus\n",
        "    texts : List of input texts\n",
        "    limit : Max num of topics\n",
        "\n",
        "    Returns:\n",
        "    -------\n",
        "    model_list : List of LDA topic models\n",
        "    coherence_values : Coherence values corresponding to the LDA model with respective number of topics\n",
        "    \"\"\"\n",
        "    coherence_values = []\n",
        "    model_list = []\n",
        "    for num_topics in range(start, limit, step):\n",
        "        model = gensim.models.wrappers.LdaMallet(mallet_path, corpus=corpus, num_topics=num_topics, id2word=id2word)\n",
        "        model_list.append(model)\n",
        "        coherencemodel = CoherenceModel(model=model, texts=texts, dictionary=dictionary, coherence='c_v')\n",
        "        coherence_values.append(coherencemodel.get_coherence())\n",
        "\n",
        "    return model_list, coherence_values"
      ],
      "execution_count": null,
      "outputs": []
    },
    {
      "cell_type": "code",
      "metadata": {
        "id": "gLHsE7psSPgf"
      },
      "source": [
        "# Can take a long time to run.\n",
        "model_list, coherence_values = compute_coherence_values(dictionary=id2word, corpus=corpus, texts=data_lemmatized, start=4, limit=10, step=1)"
      ],
      "execution_count": null,
      "outputs": []
    },
    {
      "cell_type": "code",
      "metadata": {
        "id": "Ff7o4-WQSfFn",
        "colab": {
          "base_uri": "https://localhost:8080/",
          "height": 279
        },
        "outputId": "779725a5-9a6c-4e22-cf8b-b861f0dbfc80"
      },
      "source": [
        "# Show graph\n",
        "import matplotlib.pyplot as plt\n",
        "\n",
        "limit=10; start=4; step=1;\n",
        "x = range(start, limit, step)\n",
        "plt.plot(x, coherence_values)\n",
        "plt.xlabel(\"Num Topics\")\n",
        "plt.ylabel(\"Coherence score\")\n",
        "plt.legend((\"coherence_values\"), loc='best')\n",
        "plt.show()"
      ],
      "execution_count": null,
      "outputs": [
        {
          "output_type": "display_data",
          "data": {
            "image/png": "[encoded data removed]",
            "text/plain": [
              "<Figure size 432x288 with 1 Axes>"
            ]
          },
          "metadata": {
            "tags": [],
            "needs_background": "light"
          }
        }
      ]
    }
  ]
}