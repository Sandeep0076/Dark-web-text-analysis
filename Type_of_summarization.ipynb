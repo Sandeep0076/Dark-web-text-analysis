{
  "nbformat": 4,
  "nbformat_minor": 0,
  "metadata": {
    "colab": {
      "name": "Type of summarization.ipynb",
      "provenance": [],
      "authorship_tag": "ABX9TyPyhKi0o1vAduxRU/1SPFzA",
      "include_colab_link": true
    },
    "kernelspec": {
      "name": "python3",
      "display_name": "Python 3"
    }
  },
  "cells": [
    {
      "cell_type": "markdown",
      "metadata": {
        "id": "view-in-github",
        "colab_type": "text"
      },
      "source": [
        "<a href=\"https://colab.research.google.com/github/Sandeep0076/Dark-web-text-analysis/blob/main/Type_of_summarization.ipynb\" target=\"_parent\"><img src=\"https://colab.research.google.com/assets/colab-badge.svg\" alt=\"Open In Colab\"/></a>"
      ]
    },
    {
      "cell_type": "markdown",
      "metadata": {
        "id": "7uNGB6D96PbI"
      },
      "source": [
        "# <center>Types of Summarization"
      ]
    },
    {
      "cell_type": "markdown",
      "metadata": {
        "id": "NzEa2fyhwmSP"
      },
      "source": [
        "### article"
      ]
    },
    {
      "cell_type": "code",
      "metadata": {
        "id": "KSbyWi9Jwg4g"
      },
      "source": [
        "text = '''Good morning.\n",
        "\n",
        "Almost exactly a month ago — and a full 10 days after Election Day — Young Kim became the official winner of a close, hard-fought race to represent California’s 39th Congressional District.\n",
        "\n",
        "The race was a rematch between Ms. Kim, a Republican former state lawmaker, and Representative Gil Cisneros, who narrowly clinched the Northern Orange County-area seat as part of the 2018 “blue wave,” in which Democrats were ushered into seats that had previously been solidly in Republican hands.\n",
        "\n",
        "[Read more from last year about why Ms. Kim decided to run again.]\n",
        "\n",
        "The Democratic victories, particularly in Orange County, were taken as evidence of the state’s firm rejection of the president when he wasn’t on the ballot. So the rematches in 2020 were closely watched tests of the durability of leftward shifts.\n",
        "\n",
        "The results? Well, the president lost in California by a huge margin. But Ms. Kim was among the four Republicans (including Representative Mike Garcia, who in November won a full term representing the 25th District) to narrowly recapture those seats.\n",
        "\n",
        "[See all of California’s election results.]\n",
        "\n",
        "Now, Ms. Kim, along with her fellow Orange County Republican Michelle Steel, will be among the first three Korean-American women in Congress. Last week, I spoke with Ms. Kim about that historic distinction, the pandemic and the California Republican Party after Trump.\n",
        "\n",
        "Here’s our conversation, lightly edited and condensed for length and clarity:\n",
        "\n",
        "Congratulations on the win! Tell me about what your last couple of weeks have been like.\n",
        "\n",
        "It’s been a whirlwind. I’ve been getting all the congratulatory messages from everyone who supported me from my family and friends, relatives and communities.\n",
        "\n",
        "Unlock more free articles.\n",
        "Create an account or log in\n",
        "The last two weeks I’ve been in Washington, D.C., and meeting my fellow freshman class. I’m just blown away by the level of qualification they bring to this class. We have a record number of Republican women in Congress and I’m especially proud to be one of them. So it’s just been a lot of getting adjusted. I won the lottery, so I got the first choice for my office.\n",
        "\n",
        "We’ve just been very busy, since I had to wait 10 days before my race was called. I’m just glad our heads are still intact.\n",
        "\n",
        "Talk to me about what it means to be one of the first Korean-American women elected to Congress. And what do you hope your election says about the future of the Republican Party?\n",
        "\n",
        "It says a lot about how the times have changed. Our Republican Party has been very aggressive in recruiting quality candidates who happen to be women.\n",
        "\n",
        "They really wanted to not just recruit us, but to provide the support we needed to get out of the primaries. Many organizations, including the Elevate PAC, in addition to the VIEW PAC and Winning for Women, have really focused on helping women Republicans run so we have more of a chance in the general elections.\n",
        "\n",
        "CALIFORNIA TODAY: The news and stories that matter to Californians (and anyone else interested in the state).\n",
        "Sign Up\n",
        "It says there are efforts to grow our party by including many individuals — like me, an immigrant, a mother of four, someone who speaks different languages. They see those more as assets.\n",
        "\n",
        "How are you thinking about the Republican Party specifically in California in the post-Trump era?\n",
        "\n",
        "We knew in California that President Trump was not going to win. So we focused on getting our message to voters, to constituents: It’s about fixing the gridlock and not being part of the status quo, which people are sick and tired of.\n",
        "\n",
        "They were looking for someone who can work in a bipartisan manner, and I’m focused on moving forward, healing the divide and reaching out to all community groups. You know, I’m not going to stop and say, “Did you vote for me?” I’m going to work to find common ground.\n",
        "\n",
        "We need to agree to get additional support for our families, additional P.P.P. money for our businesses and to safely open our economy again. We need to address out-of-control health care prices so many people face every day.\n",
        "\n",
        "This is not a Trump or Biden issue. It’s not a Young Kim or Gil Cisneros issue. That’s how I’m going to work.\n",
        "\n",
        "You’ve said that the state’s stay-at-home orders are too restrictive and unfairly hurt small businesses. But thousands of people are dying and millions are getting sick. What do you think is an appropriate solution?\n",
        "\n",
        "First of all, as leaders and policymakers, and the government itself, we must take a common-sense approach. So when they institute restrictions that seem too harsh, we need to talk about them. We’ve seen arbitrary rules, like those targeting nail salons, undermine public trust.\n",
        "\n",
        "We must make individuals responsible for following guidelines and looking out for the well-being of others. So I want to see consistent guidelines and consistent policies coming from our leaders. Our governor can’t say, “Do as I say, not as I do.”\n",
        "\n",
        "All I ask is: If it affects us, are we doing something that is reasonable?\n",
        "\n",
        "[Catch up on California’s current restrictions.]\n",
        "\n",
        "What would you say to people, including your constituents, who have resisted mask mandates or other public health rules?\n",
        "\n",
        "I would say to be responsible and follow simple public health guidelines, so we can continue to function and go back to work safely.\n",
        "\n",
        "But we needed to do it in the very beginning, without having different guidelines for different parts of the state or the counties. That’s why we’re in this situation.\n",
        "\n",
        "But it is what it is right now, so let’s be responsible and follow these guidelines. They work only if we all work together.\n",
        "\n",
        "Beyond the pandemic, what are your top priorities?\n",
        "\n",
        "My first priority is making sure we get through this crisis. I will be working to secure another round of relief for families, businesses and health care systems.\n",
        "\n",
        "And I’ll fight for business-friendly policies that will allow our businesses to be more creative and innovative.'''\n",
        "\n",
        "import re \n",
        "text = text.replace(\"Ms.\", \"Ms\")\n",
        "#delete everything between brackets\n",
        "text = re.sub(\"[\\(\\[].*?[\\)\\]]\", \"\", text)"
      ],
      "execution_count": null,
      "outputs": []
    },
    {
      "cell_type": "markdown",
      "metadata": {
        "id": "WHMoU8HyvQho"
      },
      "source": [
        "## 1\n",
        "\n",
        "## Extractive summarization by using Word and Sentence ranking"
      ]
    },
    {
      "cell_type": "code",
      "metadata": {
        "id": "QSSs6CIJvXIM"
      },
      "source": [
        "!python -m spacy download en_core_web_sm"
      ],
      "execution_count": null,
      "outputs": []
    },
    {
      "cell_type": "code",
      "metadata": {
        "id": "C-9eMMR7vKEB"
      },
      "source": [
        "!pip install -U spacy\n",
        "!pip install -U scikit-learn"
      ],
      "execution_count": null,
      "outputs": []
    },
    {
      "cell_type": "markdown",
      "metadata": {
        "id": "7CoNlnDtwsB4"
      },
      "source": [
        "### imports"
      ]
    },
    {
      "cell_type": "code",
      "metadata": {
        "id": "Q4sA6Vz2v-3u"
      },
      "source": [
        "import spacy\n",
        "from spacy.lang.en.stop_words import STOP_WORDS\n",
        "from sklearn.feature_extraction.text import CountVectorizer\n",
        "import en_core_web_sm\n",
        "\n",
        "#we apply the pipeline to the loaded text.\n",
        "nlp = en_core_web_sm.load()        \n",
        "doc = nlp(text)"
      ],
      "execution_count": null,
      "outputs": []
    },
    {
      "cell_type": "markdown",
      "metadata": {
        "id": "-yClvVxDw9Yv"
      },
      "source": [
        "The text is further divided into sentences and then we convert them to a matrix of token counts. Next, we create a dictionary that contains the extracted words and their respective frequencies. Besides, we discard unnecessary words like a, an, the, is, of, and others, which are known as stop words. These are high-frequency words that do not carry any information and don’t serve any purpose towards our goal of summarization."
      ]
    },
    {
      "cell_type": "code",
      "metadata": {
        "id": "YeKklrT5xB2z"
      },
      "source": [
        "corpus = [sent.text.lower() for sent in doc.sents ]\n",
        "cv = CountVectorizer(stop_words=list(STOP_WORDS))   \n",
        "cv_fit=cv.fit_transform(corpus)    \n",
        "word_list = cv.get_feature_names();    \n",
        "count_list = cv_fit.toarray().sum(axis=0)\n",
        "\n",
        "#no. of times the word is used in article\n",
        "word_frequency = dict(zip(word_list,count_list))"
      ],
      "execution_count": null,
      "outputs": []
    },
    {
      "cell_type": "markdown",
      "metadata": {
        "id": "Bj5hAIG6ycB4"
      },
      "source": [
        " we will use a simple algorithm that determines the relevance of sentences based on the cumulative frequency of their words. Then, firstly we compute the relative frequency of each word:"
      ]
    },
    {
      "cell_type": "code",
      "metadata": {
        "colab": {
          "base_uri": "https://localhost:8080/"
        },
        "id": "igmHOSQOyirY",
        "outputId": "58d21ee5-aa3a-42a6-bbed-e5297d8f6cca"
      },
      "source": [
        "#sorted word frequencies\n",
        "val=sorted(word_frequency.values())\n",
        "\n",
        "higher_word_frequencies = [word for word,freq in word_frequency.items() if freq in val[-3:]]\n",
        "print(\"\\nWords with higher frequencies: \", higher_word_frequencies)\n",
        "# gets relative frequency of words\n",
        "higher_frequency = val[-1]\n",
        "for word in word_frequency.keys():  \n",
        "    word_frequency[word] = (word_frequency[word]/higher_frequency)"
      ],
      "execution_count": null,
      "outputs": [
        {
          "output_type": "stream",
          "text": [
            "\n",
            "Words with higher frequencies:  ['california', 'kim', 'republican']\n"
          ],
          "name": "stdout"
        }
      ]
    },
    {
      "cell_type": "code",
      "metadata": {
        "colab": {
          "base_uri": "https://localhost:8080/"
        },
        "id": "iJKdJn8j5T5A",
        "outputId": "5e337162-3e6e-4198-a8f9-4594b7ef4b1e"
      },
      "source": [
        "word_frequency"
      ],
      "execution_count": null,
      "outputs": [
        {
          "output_type": "execute_result",
          "data": {
            "text/plain": [
              "{'10': 0.25,\n",
              " '2018': 0.125,\n",
              " '2020': 0.125,\n",
              " '25th': 0.125,\n",
              " '39th': 0.125,\n",
              " 'account': 0.125,\n",
              " 'addition': 0.125,\n",
              " 'additional': 0.25,\n",
              " 'address': 0.125,\n",
              " 'adjusted': 0.125,\n",
              " 'affects': 0.125,\n",
              " 'aggressive': 0.125,\n",
              " 'ago': 0.125,\n",
              " 'agree': 0.125,\n",
              " 'allow': 0.125,\n",
              " 'american': 0.25,\n",
              " 'approach': 0.125,\n",
              " 'appropriate': 0.125,\n",
              " 'arbitrary': 0.125,\n",
              " 'area': 0.125,\n",
              " 'articles': 0.125,\n",
              " 'ask': 0.125,\n",
              " 'assets': 0.125,\n",
              " 'away': 0.125,\n",
              " 'ballot': 0.125,\n",
              " 'beginning': 0.125,\n",
              " 'biden': 0.125,\n",
              " 'bipartisan': 0.125,\n",
              " 'blown': 0.125,\n",
              " 'blue': 0.125,\n",
              " 'bring': 0.125,\n",
              " 'business': 0.125,\n",
              " 'businesses': 0.5,\n",
              " 'busy': 0.125,\n",
              " 'california': 1.0,\n",
              " 'californians': 0.125,\n",
              " 'called': 0.125,\n",
              " 'candidates': 0.125,\n",
              " 'care': 0.25,\n",
              " 'catch': 0.125,\n",
              " 'chance': 0.125,\n",
              " 'changed': 0.125,\n",
              " 'choice': 0.125,\n",
              " 'cisneros': 0.25,\n",
              " 'clarity': 0.125,\n",
              " 'class': 0.25,\n",
              " 'clinched': 0.125,\n",
              " 'close': 0.125,\n",
              " 'closely': 0.125,\n",
              " 'coming': 0.125,\n",
              " 'common': 0.25,\n",
              " 'communities': 0.125,\n",
              " 'community': 0.125,\n",
              " 'condensed': 0.125,\n",
              " 'congratulations': 0.125,\n",
              " 'congratulatory': 0.125,\n",
              " 'congress': 0.375,\n",
              " 'congressional': 0.125,\n",
              " 'consistent': 0.25,\n",
              " 'constituents': 0.25,\n",
              " 'continue': 0.125,\n",
              " 'control': 0.125,\n",
              " 'conversation': 0.125,\n",
              " 'counties': 0.125,\n",
              " 'county': 0.375,\n",
              " 'couple': 0.125,\n",
              " 'create': 0.125,\n",
              " 'creative': 0.125,\n",
              " 'crisis': 0.125,\n",
              " 'current': 0.125,\n",
              " 'day': 0.25,\n",
              " 'days': 0.25,\n",
              " 'decided': 0.125,\n",
              " 'democratic': 0.125,\n",
              " 'democrats': 0.125,\n",
              " 'different': 0.375,\n",
              " 'distinction': 0.125,\n",
              " 'district': 0.25,\n",
              " 'divide': 0.125,\n",
              " 'durability': 0.125,\n",
              " 'dying': 0.125,\n",
              " 'economy': 0.125,\n",
              " 'edited': 0.125,\n",
              " 'efforts': 0.125,\n",
              " 'elected': 0.125,\n",
              " 'election': 0.375,\n",
              " 'elections': 0.125,\n",
              " 'elevate': 0.125,\n",
              " 'era': 0.125,\n",
              " 'especially': 0.125,\n",
              " 'evidence': 0.125,\n",
              " 'exactly': 0.125,\n",
              " 'face': 0.125,\n",
              " 'families': 0.25,\n",
              " 'family': 0.125,\n",
              " 'fellow': 0.25,\n",
              " 'fight': 0.125,\n",
              " 'find': 0.125,\n",
              " 'firm': 0.125,\n",
              " 'fixing': 0.125,\n",
              " 'focused': 0.375,\n",
              " 'follow': 0.25,\n",
              " 'following': 0.125,\n",
              " 'forward': 0.125,\n",
              " 'fought': 0.125,\n",
              " 'free': 0.125,\n",
              " 'freshman': 0.125,\n",
              " 'friendly': 0.125,\n",
              " 'friends': 0.125,\n",
              " 'function': 0.125,\n",
              " 'future': 0.125,\n",
              " 'garcia': 0.125,\n",
              " 'general': 0.125,\n",
              " 'getting': 0.5,\n",
              " 'gil': 0.25,\n",
              " 'glad': 0.125,\n",
              " 'going': 0.5,\n",
              " 'good': 0.125,\n",
              " 'got': 0.125,\n",
              " 'government': 0.125,\n",
              " 'governor': 0.125,\n",
              " 'gridlock': 0.125,\n",
              " 'ground': 0.125,\n",
              " 'groups': 0.125,\n",
              " 'grow': 0.125,\n",
              " 'guidelines': 0.625,\n",
              " 'hands': 0.125,\n",
              " 'happen': 0.125,\n",
              " 'hard': 0.125,\n",
              " 'harsh': 0.125,\n",
              " 'having': 0.125,\n",
              " 'heads': 0.125,\n",
              " 'healing': 0.125,\n",
              " 'health': 0.5,\n",
              " 'helping': 0.125,\n",
              " 'historic': 0.125,\n",
              " 'home': 0.125,\n",
              " 'hope': 0.125,\n",
              " 'huge': 0.125,\n",
              " 'hurt': 0.125,\n",
              " 'immigrant': 0.125,\n",
              " 'including': 0.5,\n",
              " 'individuals': 0.25,\n",
              " 'innovative': 0.125,\n",
              " 'institute': 0.125,\n",
              " 'intact': 0.125,\n",
              " 'interested': 0.125,\n",
              " 'issue': 0.25,\n",
              " 'kim': 0.875,\n",
              " 'knew': 0.125,\n",
              " 'know': 0.125,\n",
              " 'korean': 0.25,\n",
              " 'languages': 0.125,\n",
              " 'lawmaker': 0.125,\n",
              " 'leaders': 0.25,\n",
              " 'leftward': 0.125,\n",
              " 'length': 0.125,\n",
              " 'let': 0.125,\n",
              " 'level': 0.125,\n",
              " 'lightly': 0.125,\n",
              " 'like': 0.375,\n",
              " 'll': 0.125,\n",
              " 'log': 0.125,\n",
              " 'looking': 0.25,\n",
              " 'lost': 0.125,\n",
              " 'lot': 0.25,\n",
              " 'lottery': 0.125,\n",
              " 'making': 0.125,\n",
              " 'mandates': 0.125,\n",
              " 'manner': 0.125,\n",
              " 'margin': 0.125,\n",
              " 'mask': 0.125,\n",
              " 'matter': 0.125,\n",
              " 'means': 0.125,\n",
              " 'meeting': 0.125,\n",
              " 'message': 0.125,\n",
              " 'messages': 0.125,\n",
              " 'michelle': 0.125,\n",
              " 'mike': 0.125,\n",
              " 'millions': 0.125,\n",
              " 'money': 0.125,\n",
              " 'month': 0.125,\n",
              " 'morning': 0.125,\n",
              " 'mother': 0.125,\n",
              " 'moving': 0.125,\n",
              " 'ms': 0.625,\n",
              " 'nail': 0.125,\n",
              " 'narrowly': 0.25,\n",
              " 'need': 0.375,\n",
              " 'needed': 0.25,\n",
              " 'news': 0.125,\n",
              " 'northern': 0.125,\n",
              " 'november': 0.125,\n",
              " 'number': 0.125,\n",
              " 'office': 0.125,\n",
              " 'official': 0.125,\n",
              " 'open': 0.125,\n",
              " 'orange': 0.375,\n",
              " 'orders': 0.125,\n",
              " 'organizations': 0.125,\n",
              " 'pac': 0.25,\n",
              " 'pandemic': 0.25,\n",
              " 'particularly': 0.125,\n",
              " 'parts': 0.125,\n",
              " 'party': 0.625,\n",
              " 'people': 0.5,\n",
              " 'policies': 0.25,\n",
              " 'policymakers': 0.125,\n",
              " 'post': 0.125,\n",
              " 'president': 0.375,\n",
              " 'previously': 0.125,\n",
              " 'prices': 0.125,\n",
              " 'primaries': 0.125,\n",
              " 'priorities': 0.125,\n",
              " 'priority': 0.125,\n",
              " 'proud': 0.125,\n",
              " 'provide': 0.125,\n",
              " 'public': 0.375,\n",
              " 'qualification': 0.125,\n",
              " 'quality': 0.125,\n",
              " 'quo': 0.125,\n",
              " 'race': 0.375,\n",
              " 'reaching': 0.125,\n",
              " 'read': 0.125,\n",
              " 'reasonable': 0.125,\n",
              " 'recapture': 0.125,\n",
              " 'record': 0.125,\n",
              " 'recruit': 0.125,\n",
              " 'recruiting': 0.125,\n",
              " 'rejection': 0.125,\n",
              " 'relatives': 0.125,\n",
              " 'relief': 0.125,\n",
              " 'rematch': 0.125,\n",
              " 'rematches': 0.125,\n",
              " 'represent': 0.125,\n",
              " 'representative': 0.25,\n",
              " 'representing': 0.125,\n",
              " 'republican': 1.0,\n",
              " 'republicans': 0.25,\n",
              " 'resisted': 0.125,\n",
              " 'responsible': 0.375,\n",
              " 'restrictions': 0.25,\n",
              " 'restrictive': 0.125,\n",
              " 'results': 0.25,\n",
              " 'right': 0.125,\n",
              " 'round': 0.125,\n",
              " 'rules': 0.25,\n",
              " 'run': 0.25,\n",
              " 'safely': 0.25,\n",
              " 'said': 0.125,\n",
              " 'salons': 0.125,\n",
              " 'says': 0.375,\n",
              " 'seat': 0.125,\n",
              " 'seats': 0.25,\n",
              " 'secure': 0.125,\n",
              " 'seen': 0.125,\n",
              " 'sense': 0.125,\n",
              " 'shifts': 0.125,\n",
              " 'sick': 0.25,\n",
              " 'sign': 0.125,\n",
              " 'simple': 0.125,\n",
              " 'situation': 0.125,\n",
              " 'small': 0.125,\n",
              " 'solidly': 0.125,\n",
              " 'solution': 0.125,\n",
              " 'speaks': 0.125,\n",
              " 'specifically': 0.125,\n",
              " 'spoke': 0.125,\n",
              " 'state': 0.625,\n",
              " 'status': 0.125,\n",
              " 'stay': 0.125,\n",
              " 'steel': 0.125,\n",
              " 'stop': 0.125,\n",
              " 'stories': 0.125,\n",
              " 'support': 0.25,\n",
              " 'supported': 0.125,\n",
              " 'sure': 0.125,\n",
              " 'systems': 0.125,\n",
              " 'taken': 0.125,\n",
              " 'talk': 0.25,\n",
              " 'targeting': 0.125,\n",
              " 'tell': 0.125,\n",
              " 'term': 0.125,\n",
              " 'tests': 0.125,\n",
              " 'think': 0.125,\n",
              " 'thinking': 0.125,\n",
              " 'thousands': 0.125,\n",
              " 'times': 0.125,\n",
              " 'tired': 0.125,\n",
              " 'today': 0.125,\n",
              " 'trump': 0.5,\n",
              " 'trust': 0.125,\n",
              " 'undermine': 0.125,\n",
              " 'unfairly': 0.125,\n",
              " 'unlock': 0.125,\n",
              " 'ushered': 0.125,\n",
              " 've': 0.625,\n",
              " 'victories': 0.125,\n",
              " 'view': 0.125,\n",
              " 'vote': 0.125,\n",
              " 'voters': 0.125,\n",
              " 'wait': 0.125,\n",
              " 'want': 0.125,\n",
              " 'wanted': 0.125,\n",
              " 'washington': 0.125,\n",
              " 'wasn': 0.125,\n",
              " 'watched': 0.125,\n",
              " 'wave': 0.125,\n",
              " 'week': 0.125,\n",
              " 'weeks': 0.25,\n",
              " 'whirlwind': 0.125,\n",
              " 'win': 0.25,\n",
              " 'winner': 0.125,\n",
              " 'winning': 0.125,\n",
              " 'women': 0.75,\n",
              " 'won': 0.25,\n",
              " 'work': 0.75,\n",
              " 'working': 0.125,\n",
              " 'year': 0.125,\n",
              " 'young': 0.25}"
            ]
          },
          "metadata": {
            "tags": []
          },
          "execution_count": 21
        }
      ]
    },
    {
      "cell_type": "markdown",
      "metadata": {
        "id": "HPkLG1u_4V3g"
      },
      "source": [
        "Next, the sentences are ranked and we put each ranked sentence in an ordered list, where most important sentences come first and are chosen as part of the subset of sentences which will form the summary."
      ]
    },
    {
      "cell_type": "code",
      "metadata": {
        "id": "YXnJsCMTy0xH"
      },
      "source": [
        "sentence_rank={}\n",
        "for sent in doc.sents:\n",
        "    for word in sent :       \n",
        "        if word.text.lower() in word_frequency.keys():            \n",
        "            if sent in sentence_rank.keys():\n",
        "                sentence_rank[sent]+=word_frequency[word.text.lower()]\n",
        "            else:\n",
        "                sentence_rank[sent]=word_frequency[word.text.lower()]\n",
        "top_sentences=(sorted(sentence_rank.values())[::-1])\n",
        "\n",
        "#top 3 sentences are included for summary\n",
        "top_sent=top_sentences[:3]"
      ],
      "execution_count": null,
      "outputs": []
    },
    {
      "cell_type": "code",
      "metadata": {
        "colab": {
          "base_uri": "https://localhost:8080/"
        },
        "id": "tC4Tgdur4plo",
        "outputId": "c4fdc38b-a9c0-4182-cd07-3f4609a63d9b"
      },
      "source": [
        "sentence_rank"
      ],
      "execution_count": null,
      "outputs": [
        {
          "output_type": "execute_result",
          "data": {
            "text/plain": [
              "{Good morning.\n",
              " : 0.25,\n",
              " Almost exactly a month ago — and a full 10 days after Election Day — Young Kim became the official winner of a close, hard-fought race to represent California’s 39th Congressional District.\n",
              " : 5.25,\n",
              " The race was a rematch between Ms. Kim, a Republican former state lawmaker, and Representative Gil Cisneros, who narrowly clinched the Northern Orange County-area seat as part of the 2018 “blue wave,” in which Democrats were ushered into seats that had previously been solidly in Republican hands.\n",
              " : 7.625,\n",
              " [Read more from last year about why Ms. Kim decided to run again.]\n",
              " : 1.5,\n",
              " The Democratic victories, particularly in Orange County, were taken as evidence of the state’s firm rejection of the president when he wasn’t on the ballot.: 2.75,\n",
              " So the rematches in 2020 were closely watched tests of the durability of leftward shifts.\n",
              " : 1.0,\n",
              " The results?: 0.25,\n",
              " Well, the president lost in California by a huge margin.: 1.75,\n",
              " But Ms. Kim was among the four Republicans (including Representative Mike Garcia, who in November won a full term representing the 25th District) to narrowly recapture those seats.\n",
              " : 3.75,\n",
              " [See all of California’s election results.]\n",
              " : 1.625,\n",
              " Now, Ms. Kim, along with her fellow Orange County Republican Michelle Steel, will be among the first three Korean-American women in Congress.: 4.75,\n",
              " Last week, I spoke with Ms. Kim about that historic distinction, the pandemic and the California Republican Party after Trump.\n",
              " : 4.75,\n",
              " Here’s our conversation, lightly edited and condensed for length and clarity:\n",
              " : 0.75,\n",
              " Congratulations on the win!: 0.375,\n",
              " Tell me about what your last couple of weeks have been like.\n",
              " : 0.875,\n",
              " It’s been a whirlwind.: 0.125,\n",
              " I’ve been getting all the congratulatory messages from everyone who supported me from my family and friends, relatives and communities.\n",
              " : 1.375,\n",
              " Unlock more free articles.: 0.375,\n",
              " Create an account or log in: 0.375,\n",
              " The last two weeks I’ve been in Washington, D.C., and meeting my fellow freshman class.: 1.125,\n",
              " I’m just blown away by the level of qualification they bring to this class.: 0.875,\n",
              " We have a record number of Republican women in Congress: 2.375,\n",
              " and I’m especially proud to be one of them.: 0.25,\n",
              " So it’s just been a lot of getting adjusted.: 0.875,\n",
              " I won the lottery, so I got the first choice for my office.\n",
              " : 0.75,\n",
              " We’ve just been very busy, since I had to wait 10 days before my race was called.: 1.25,\n",
              " I’m just glad our heads are still intact.\n",
              " : 0.375,\n",
              " Talk to me about what it means to be one of the first Korean-American women elected to Congress.: 2.125,\n",
              " And what do you hope your election says about the future of the Republican Party?\n",
              " : 2.625,\n",
              " It says a lot about how the times have changed.: 0.875,\n",
              " Our Republican Party has been very aggressive in recruiting quality candidates who happen to be women.\n",
              " : 3.0,\n",
              " They really wanted to not just recruit us, but to provide the support we needed to get out of the primaries.: 1.0,\n",
              " Many organizations, including the Elevate PAC, in addition to the VIEW PAC and Winning for Women, have really focused on helping women Republicans run so we have more of a chance in the general elections.\n",
              " : 4.5,\n",
              " CALIFORNIA TODAY:: 1.125,\n",
              " The news and stories that matter to Californians (and anyone else interested in the state).: 1.25,\n",
              " Sign Up: 0.125,\n",
              " It says there are efforts to grow our party by including many individuals — like me, an immigrant, a mother of four, someone who speaks different languages.: 3.25,\n",
              " They see those more as assets.\n",
              " : 0.125,\n",
              " How are you thinking about the Republican Party specifically in California in the post-Trump era?\n",
              " : 3.625,\n",
              " We knew in California that President Trump was not going to win.: 2.75,\n",
              " So we focused on getting our message to voters, to constituents:: 1.375,\n",
              " It’s about fixing the gridlock and not being part of the status quo, which people are sick and tired of.\n",
              " : 1.375,\n",
              " They were looking for someone who can work in a bipartisan manner, and I’m focused on moving forward, healing the divide and reaching out to all community groups.: 2.5,\n",
              " You know, I’m not going to stop and say, “Did you vote for me?”: 0.875,\n",
              " I’m going to work to find common ground.\n",
              " : 1.75,\n",
              " We need to agree to get additional support for our families, additional P.P.P. money for our businesses and to safely open our economy again.: 2.625,\n",
              " We need to address out-of-control health care prices so many people face every day.\n",
              " : 2.375,\n",
              " This is not a Trump or Biden issue.: 0.875,\n",
              " It’s not a Young Kim or Gil Cisneros issue.: 1.875,\n",
              " That’s how I’m going to work.\n",
              " : 1.25,\n",
              " You’ve said that the state’s stay-at-home orders are too restrictive and unfairly hurt small businesses.: 2.125,\n",
              " But thousands of people are dying and millions are getting sick.: 1.625,\n",
              " What do you think is an appropriate solution?\n",
              " : 0.375,\n",
              " First of all, as leaders and policymakers, and the government itself, we must take a common-sense approach.: 1.0,\n",
              " So when they institute restrictions that seem too harsh, we need to talk about them.: 1.125,\n",
              " We’ve seen arbitrary rules, like those targeting nail salons, undermine public trust.\n",
              " : 1.875,\n",
              " We must make individuals responsible for following guidelines and looking out for the well-being of others.: 1.625,\n",
              " So I want to see consistent guidelines and consistent policies coming from our leaders.: 1.875,\n",
              " Our governor can’t say, “Do as I say, not as I do.”\n",
              " : 0.125,\n",
              " All I ask is: If it affects us, are we doing something that is reasonable?\n",
              " : 0.375,\n",
              " [Catch up on California’s current restrictions.]\n",
              " : 1.5,\n",
              " What would you say to people, including your constituents, who have resisted mask mandates or other public health rules?\n",
              " : 2.75,\n",
              " I would say to be responsible and follow simple public health guidelines, so we can continue to function and go back to work safely.\n",
              " : 3.5,\n",
              " But we needed to do it in the very beginning, without having different guidelines for different parts of the state or the counties.: 2.75,\n",
              " That’s why we’re in this situation.\n",
              " : 0.125,\n",
              " But it is what it is right now, so: 0.125,\n",
              " let’s be responsible and follow these guidelines.: 1.375,\n",
              " They work only if we all work together.\n",
              " : 1.5,\n",
              " Beyond the pandemic, what are your top priorities?\n",
              " : 0.375,\n",
              " My first priority is making sure we get through this crisis.: 0.5,\n",
              " I will be working to secure another round of relief for families, businesses and health care systems.\n",
              " : 2.125,\n",
              " And I’ll fight for business-friendly policies that will allow our businesses to be more creative and innovative.: 1.5}"
            ]
          },
          "metadata": {
            "tags": []
          },
          "execution_count": 20
        }
      ]
    },
    {
      "cell_type": "markdown",
      "metadata": {
        "id": "jPoJ0B605m0I"
      },
      "source": [
        "Finally, we compound the summary based on the most important sentences. In this example, we used the top three best-ranked sentences:"
      ]
    },
    {
      "cell_type": "code",
      "metadata": {
        "colab": {
          "base_uri": "https://localhost:8080/"
        },
        "id": "wwKw-S5O5JZ-",
        "outputId": "40f87ec0-ccb0-45e4-e867-49ce635b21a4"
      },
      "source": [
        "summary=[]\n",
        "for sent,strength in sentence_rank.items():  \n",
        "    if strength in top_sent:\n",
        "        summary.append(sent)\n",
        "    else:\n",
        "        continue\n",
        "for i in summary:\n",
        "    print(i,end=\" \")"
      ],
      "execution_count": null,
      "outputs": [
        {
          "output_type": "stream",
          "text": [
            "Almost exactly a month ago — and a full 10 days after Election Day — Young Kim became the official winner of a close, hard-fought race to represent California’s 39th Congressional District.\n",
            "\n",
            " The race was a rematch between Ms. Kim, a Republican former state lawmaker, and Representative Gil Cisneros, who narrowly clinched the Northern Orange County-area seat as part of the 2018 “blue wave,” in which Democrats were ushered into seats that had previously been solidly in Republican hands.\n",
            "\n",
            " Now, Ms. Kim, along with her fellow Orange County Republican Michelle Steel, will be among the first three Korean-American women in Congress. Last week, I spoke with Ms. Kim about that historic distinction, the pandemic and the California Republican Party after Trump.\n",
            "\n",
            " "
          ],
          "name": "stdout"
        }
      ]
    },
    {
      "cell_type": "markdown",
      "metadata": {
        "id": "JNZORi1y6GJw"
      },
      "source": [
        "## 2\n",
        "## Textrank using Cosine Similarity"
      ]
    },
    {
      "cell_type": "code",
      "metadata": {
        "colab": {
          "base_uri": "https://localhost:8080/",
          "height": 303
        },
        "id": "vVokihLMLABP",
        "outputId": "3fe7a87d-99ee-403d-a276-4bda98b9fa09"
      },
      "source": [
        "from IPython.display import Image\n",
        "Image('textrank.JPG')"
      ],
      "execution_count": null,
      "outputs": [
        {
          "output_type": "execute_result",
          "data": {
            "image/jpeg": "[encoded data removed]",
            "text/plain": [
              "<IPython.core.display.Image object>"
            ]
          },
          "metadata": {
            "tags": []
          },
          "execution_count": 125
        }
      ]
    },
    {
      "cell_type": "markdown",
      "metadata": {
        "id": "5f5AW1R-LenP"
      },
      "source": [
        "\n",
        "\n",
        "*   The first step would be to concatenate all the text contained in the articles\n",
        "*   Then split the text into individual sentences\n",
        "\n",
        "\n",
        "* In the next step, we will find vector representation (word embeddings) for each and every sentence\n",
        "\n",
        "*   Similarities between sentence vectors are then calculated and stored in a matrix\n",
        "\n",
        "\n",
        "\n",
        "*   The similarity matrix is then converted into a graph, with sentences as vertices and similarity scores as edges, for sentence rank calculation\n",
        "*   Finally, a certain number of top-ranked sentences form the final summary\n",
        "\n",
        "\n",
        "\n",
        "\n",
        "\n"
      ]
    },
    {
      "cell_type": "code",
      "metadata": {
        "id": "v7hoSMje6Hir"
      },
      "source": [
        "#from nltk.corpus import stopwords as stop_words\n",
        "from nltk.cluster.util import cosine_distance\n",
        "import numpy as np\n",
        "import networkx as nx"
      ],
      "execution_count": null,
      "outputs": []
    },
    {
      "cell_type": "markdown",
      "metadata": {
        "id": "owOgc9wv8rsW"
      },
      "source": [
        "### Generate clean sentences"
      ]
    },
    {
      "cell_type": "code",
      "metadata": {
        "id": "vHbh0LBT9uYn"
      },
      "source": [
        "import re \n",
        "text = text.replace(\"Ms.\", \"Ms\")\n",
        "#delete everything between brackets\n",
        "text = re.sub(\"[\\(\\[].*?[\\)\\]]\", \"\", text)"
      ],
      "execution_count": null,
      "outputs": []
    },
    {
      "cell_type": "code",
      "metadata": {
        "id": "N4-SSB768hGP"
      },
      "source": [
        "def read_article(text):\n",
        "    article = text.split(\". \")\n",
        "    sentences = []\n",
        "\n",
        "    for sentence in article:\n",
        "        #print(sentence)\n",
        "        sentences.append(sentence.replace(\"[^a-zA-Z]\", \" \").split(\" \"))\n",
        "    sentences.pop() \n",
        "    \n",
        "    return sentences"
      ],
      "execution_count": null,
      "outputs": []
    },
    {
      "cell_type": "code",
      "metadata": {
        "id": "Oijmb9eJ8nM-"
      },
      "source": [
        "sentences = read_article(text)"
      ],
      "execution_count": null,
      "outputs": []
    },
    {
      "cell_type": "markdown",
      "metadata": {
        "id": "VsoOJgPbGCTX"
      },
      "source": [
        "### Calculate sentence Similarity"
      ]
    },
    {
      "cell_type": "code",
      "metadata": {
        "id": "szgTTHdcGFaS"
      },
      "source": [
        "def sentence_similarity(sent1, sent2, stopwords=None):\n",
        "    if stopwords is None:\n",
        "        stopwords = []\n",
        " \n",
        "    sent1 = [w.lower() for w in sent1]\n",
        "    sent2 = [w.lower() for w in sent2]\n",
        "\n",
        "    # set to get unique words\n",
        "    all_words = list(set(sent1 + sent2))\n",
        " \n",
        "    vector1 = [0] * len(all_words)\n",
        "    vector2 = [0] * len(all_words)\n",
        " \n",
        "    # build the vector for the first sentence\n",
        "    for w in sent1:\n",
        "        if w in stopwords:\n",
        "            continue\n",
        "        vector1[all_words.index(w)] += 1\n",
        " \n",
        "    # build the vector for the second sentence\n",
        "    for w in sent2:\n",
        "        if w in stopwords:\n",
        "            continue\n",
        "        vector2[all_words.index(w)] += 1\n",
        "    #cosine distance = 1 -cosine similarity\n",
        "    return 1 - cosine_distance(vector1, vector2)\n",
        "# cosine similarity = cos(theta) cos(90) = 0, cos(0) = 1, it ranges between -1 AND 1."
      ],
      "execution_count": null,
      "outputs": []
    },
    {
      "cell_type": "code",
      "metadata": {
        "colab": {
          "base_uri": "https://localhost:8080/",
          "height": 263
        },
        "id": "A2ffmEkbEVa8",
        "outputId": "61b27df7-4d23-4b52-e20f-0f43c8da4873"
      },
      "source": [
        "# Formula for cosine similarity\n",
        "Image('Capture.JPG')"
      ],
      "execution_count": null,
      "outputs": [
        {
          "output_type": "execute_result",
          "data": {
            "image/jpeg": "[encoded data removed]",
            "text/plain": [
              "<IPython.core.display.Image object>"
            ]
          },
          "metadata": {
            "tags": []
          },
          "execution_count": 3
        }
      ]
    },
    {
      "cell_type": "code",
      "metadata": {
        "colab": {
          "base_uri": "https://localhost:8080/"
        },
        "id": "rKl_mPMThri3",
        "outputId": "5afa3547-251c-4974-9a55-9e46c2225d21"
      },
      "source": [
        "sent1 = 'Lists and tuples are standard Python data types that store values in a sequence. '\n",
        "sent2 = ' Sets are another standard Python data type that also store values. '\n",
        "sentence_similarity(sent1,sent2,STOP_WORDS)"
      ],
      "execution_count": null,
      "outputs": [
        {
          "output_type": "execute_result",
          "data": {
            "text/plain": [
              "0.974792988617498"
            ]
          },
          "metadata": {
            "tags": []
          },
          "execution_count": 128
        }
      ]
    },
    {
      "cell_type": "code",
      "metadata": {
        "colab": {
          "base_uri": "https://localhost:8080/"
        },
        "id": "OBnFul8Eirn_",
        "outputId": "82af3223-3cc3-44f0-c43c-a5868efc8637"
      },
      "source": [
        "set1 =[w.lower() for w in sent1]\n",
        "set1 = list(set(set1))\n",
        "set1.index('s')"
      ],
      "execution_count": null,
      "outputs": [
        {
          "output_type": "execute_result",
          "data": {
            "text/plain": [
              "5"
            ]
          },
          "metadata": {
            "tags": []
          },
          "execution_count": 134
        }
      ]
    },
    {
      "cell_type": "markdown",
      "metadata": {
        "id": "R-yuuu807Nln"
      },
      "source": [
        "Similarity matrix\n",
        "This is where we will be using cosine similarity to find similarity between sentences."
      ]
    },
    {
      "cell_type": "code",
      "metadata": {
        "id": "DJVgFBq37q1F"
      },
      "source": [
        "def build_similarity_matrix(sentences, stop_words):\n",
        "    # Create an empty similarity matrix\n",
        "    similarity_matrix = np.zeros((len(sentences), len(sentences)))\n",
        " \n",
        "    for idx1 in range(len(sentences)):\n",
        "        for idx2 in range(len(sentences)):\n",
        "            if idx1 == idx2: #ignore if both are same sentences\n",
        "                continue \n",
        "            similarity_matrix[idx1][idx2] = sentence_similarity(sentences[idx1], sentences[idx2], stop_words)\n",
        "    return similarity_matrix"
      ],
      "execution_count": null,
      "outputs": []
    },
    {
      "cell_type": "code",
      "metadata": {
        "id": "Qn2gpUUF9PnI"
      },
      "source": [
        "sentence_similarity_martix = build_similarity_matrix(sentences, STOP_WORDS)"
      ],
      "execution_count": null,
      "outputs": []
    },
    {
      "cell_type": "code",
      "metadata": {
        "colab": {
          "base_uri": "https://localhost:8080/"
        },
        "id": "DSRp_YMp9hj3",
        "outputId": "23e718cc-482d-4c3c-b11e-4044279dd61a"
      },
      "source": [
        "sentence_similarity_martix"
      ],
      "execution_count": null,
      "outputs": [
        {
          "output_type": "execute_result",
          "data": {
            "text/plain": [
              "array([[0.        , 0.03086067, 0.24053512, 0.09968896, 0.        ,\n",
              "        0.        , 0.08451543, 0.        , 0.14414999, 0.        ,\n",
              "        0.10350983, 0.06172134, 0.03733267, 0.08964215, 0.        ,\n",
              "        0.        , 0.        , 0.        , 0.14638501, 0.03314968,\n",
              "        0.        , 0.        , 0.        , 0.        , 0.        ,\n",
              "        0.0174342 , 0.        , 0.        ],\n",
              "       [0.03086067, 0.        , 0.        , 0.05383819, 0.        ,\n",
              "        0.        , 0.        , 0.        , 0.        , 0.        ,\n",
              "        0.        , 0.        , 0.        , 0.19364917, 0.        ,\n",
              "        0.        , 0.        , 0.        , 0.        , 0.        ,\n",
              "        0.        , 0.        , 0.        , 0.        , 0.        ,\n",
              "        0.        , 0.        , 0.        ],\n",
              "       [0.24053512, 0.        , 0.        , 0.18650096, 0.04564355,\n",
              "        0.        , 0.23717082, 0.        , 0.        , 0.2236068 ,\n",
              "        0.06454972, 0.05773503, 0.06984303, 0.0559017 , 0.        ,\n",
              "        0.        , 0.        , 0.        , 0.09128709, 0.        ,\n",
              "        0.        , 0.        , 0.        , 0.        , 0.        ,\n",
              "        0.        , 0.        , 0.        ],\n",
              "       [0.09968896, 0.05383819, 0.18650096, 0.        , 0.04256283,\n",
              "        0.        , 0.07372098, 0.        , 0.        , 0.        ,\n",
              "        0.06019293, 0.10767638, 0.03256448, 0.20851441, 0.        ,\n",
              "        0.        , 0.        , 0.        , 0.08512565, 0.        ,\n",
              "        0.        , 0.        , 0.        , 0.        , 0.        ,\n",
              "        0.        , 0.        , 0.        ],\n",
              "       [0.        , 0.        , 0.04564355, 0.04256283, 0.        ,\n",
              "        0.07715167, 0.        , 0.10206207, 0.        , 0.        ,\n",
              "        0.        , 0.        , 0.        , 0.        , 0.0379049 ,\n",
              "        0.        , 0.        , 0.        , 0.        , 0.        ,\n",
              "        0.08333333, 0.        , 0.        , 0.        , 0.        ,\n",
              "        0.        , 0.        , 0.        ],\n",
              "       [0.        , 0.        , 0.        , 0.        , 0.07715167,\n",
              "        0.        , 0.13363062, 0.        , 0.        , 0.12598816,\n",
              "        0.        , 0.        , 0.        , 0.        , 0.07018624,\n",
              "        0.14547859, 0.        , 0.        , 0.        , 0.10482848,\n",
              "        0.        , 0.        , 0.        , 0.        , 0.        ,\n",
              "        0.        , 0.        , 0.        ],\n",
              "       [0.08451543, 0.        , 0.23717082, 0.07372098, 0.        ,\n",
              "        0.13363062, 0.        , 0.        , 0.        , 0.35355339,\n",
              "        0.10206207, 0.09128709, 0.05521576, 0.08838835, 0.06565322,\n",
              "        0.13608276, 0.        , 0.        , 0.        , 0.09805807,\n",
              "        0.        , 0.        , 0.        , 0.        , 0.        ,\n",
              "        0.        , 0.        , 0.        ],\n",
              "       [0.        , 0.        , 0.        , 0.        , 0.10206207,\n",
              "        0.        , 0.        , 0.        , 0.        , 0.        ,\n",
              "        0.14433757, 0.        , 0.        , 0.        , 0.18569534,\n",
              "        0.        , 0.        , 0.        , 0.20412415, 0.        ,\n",
              "        0.20412415, 0.        , 0.        , 0.        , 0.        ,\n",
              "        0.        , 0.        , 0.        ],\n",
              "       [0.14414999, 0.        , 0.        , 0.        , 0.        ,\n",
              "        0.        , 0.        , 0.        , 0.        , 0.        ,\n",
              "        0.        , 0.        , 0.        , 0.        , 0.        ,\n",
              "        0.        , 0.        , 0.        , 0.        , 0.        ,\n",
              "        0.        , 0.        , 0.        , 0.        , 0.        ,\n",
              "        0.        , 0.        , 0.        ],\n",
              "       [0.        , 0.        , 0.2236068 , 0.        , 0.        ,\n",
              "        0.12598816, 0.35355339, 0.        , 0.        , 0.        ,\n",
              "        0.        , 0.        , 0.05205792, 0.        , 0.06189845,\n",
              "        0.12830006, 0.        , 0.        , 0.        , 0.09245003,\n",
              "        0.        , 0.        , 0.        , 0.        , 0.        ,\n",
              "        0.        , 0.        , 0.        ],\n",
              "       [0.10350983, 0.        , 0.06454972, 0.06019293, 0.        ,\n",
              "        0.        , 0.10206207, 0.14433757, 0.        , 0.        ,\n",
              "        0.        , 0.0745356 , 0.09016696, 0.07216878, 0.        ,\n",
              "        0.        , 0.        , 0.        , 0.        , 0.        ,\n",
              "        0.        , 0.        , 0.        , 0.        , 0.        ,\n",
              "        0.        , 0.        , 0.        ],\n",
              "       [0.06172134, 0.        , 0.05773503, 0.10767638, 0.        ,\n",
              "        0.        , 0.09128709, 0.        , 0.        , 0.        ,\n",
              "        0.0745356 , 0.        , 0.04032389, 0.12909944, 0.        ,\n",
              "        0.0496904 , 0.        , 0.        , 0.        , 0.        ,\n",
              "        0.        , 0.        , 0.        , 0.        , 0.        ,\n",
              "        0.07532436, 0.        , 0.        ],\n",
              "       [0.03733267, 0.        , 0.06984303, 0.03256448, 0.        ,\n",
              "        0.        , 0.05521576, 0.        , 0.        , 0.05205792,\n",
              "        0.09016696, 0.04032389, 0.        , 0.03904344, 0.05800148,\n",
              "        0.        , 0.        , 0.        , 0.        , 0.        ,\n",
              "        0.        , 0.        , 0.        , 0.0757554 , 0.        ,\n",
              "        0.09112114, 0.        , 0.        ],\n",
              "       [0.08964215, 0.19364917, 0.0559017 , 0.20851441, 0.        ,\n",
              "        0.        , 0.08838835, 0.        , 0.        , 0.        ,\n",
              "        0.07216878, 0.12909944, 0.03904344, 0.        , 0.        ,\n",
              "        0.09622504, 0.        , 0.07216878, 0.        , 0.06933752,\n",
              "        0.        , 0.        , 0.        , 0.        , 0.        ,\n",
              "        0.        , 0.        , 0.        ],\n",
              "       [0.        , 0.        , 0.        , 0.        , 0.0379049 ,\n",
              "        0.07018624, 0.06565322, 0.18569534, 0.        , 0.06189845,\n",
              "        0.        , 0.        , 0.05800148, 0.        , 0.        ,\n",
              "        0.10721125, 0.        , 0.05360563, 0.0758098 , 0.05150262,\n",
              "        0.22742941, 0.        , 0.        , 0.04503773, 0.        ,\n",
              "        0.02708645, 0.        , 0.1119785 ],\n",
              "       [0.        , 0.        , 0.        , 0.        , 0.        ,\n",
              "        0.14547859, 0.13608276, 0.        , 0.        , 0.12830006,\n",
              "        0.        , 0.0496904 , 0.        , 0.09622504, 0.10721125,\n",
              "        0.        , 0.        , 0.05555556, 0.        , 0.21350421,\n",
              "        0.        , 0.        , 0.0860663 , 0.        , 0.        ,\n",
              "        0.08421519, 0.        , 0.11605177],\n",
              "       [0.        , 0.        , 0.        , 0.        , 0.        ,\n",
              "        0.        , 0.        , 0.        , 0.        , 0.        ,\n",
              "        0.        , 0.        , 0.        , 0.        , 0.        ,\n",
              "        0.        , 0.        , 0.        , 0.        , 0.12403473,\n",
              "        0.        , 0.        , 0.        , 0.        , 0.        ,\n",
              "        0.        , 0.        , 0.        ],\n",
              "       [0.        , 0.        , 0.        , 0.        , 0.        ,\n",
              "        0.        , 0.        , 0.        , 0.        , 0.        ,\n",
              "        0.        , 0.        , 0.        , 0.07216878, 0.05360563,\n",
              "        0.05555556, 0.        , 0.        , 0.11785113, 0.        ,\n",
              "        0.11785113, 0.        , 0.12909944, 0.        , 0.        ,\n",
              "        0.08421519, 0.        , 0.        ],\n",
              "       [0.14638501, 0.        , 0.09128709, 0.08512565, 0.        ,\n",
              "        0.        , 0.        , 0.20412415, 0.        , 0.        ,\n",
              "        0.        , 0.        , 0.        , 0.        , 0.0758098 ,\n",
              "        0.        , 0.        , 0.11785113, 0.        , 0.        ,\n",
              "        0.        , 0.        , 0.        , 0.        , 0.        ,\n",
              "        0.        , 0.        , 0.        ],\n",
              "       [0.03314968, 0.        , 0.        , 0.        , 0.        ,\n",
              "        0.10482848, 0.09805807, 0.        , 0.        , 0.09245003,\n",
              "        0.        , 0.        , 0.        , 0.06933752, 0.05150262,\n",
              "        0.21350421, 0.12403473, 0.        , 0.        , 0.        ,\n",
              "        0.        , 0.        , 0.        , 0.        , 0.        ,\n",
              "        0.        , 0.09245003, 0.        ],\n",
              "       [0.        , 0.        , 0.        , 0.        , 0.08333333,\n",
              "        0.        , 0.        , 0.20412415, 0.        , 0.        ,\n",
              "        0.        , 0.        , 0.        , 0.        , 0.22742941,\n",
              "        0.        , 0.        , 0.11785113, 0.        , 0.        ,\n",
              "        0.        , 0.        , 0.        , 0.        , 0.        ,\n",
              "        0.        , 0.        , 0.        ],\n",
              "       [0.        , 0.        , 0.        , 0.        , 0.        ,\n",
              "        0.        , 0.        , 0.        , 0.        , 0.        ,\n",
              "        0.        , 0.        , 0.        , 0.        , 0.        ,\n",
              "        0.        , 0.        , 0.        , 0.        , 0.        ,\n",
              "        0.        , 0.        , 0.        , 0.        , 0.10540926,\n",
              "        0.        , 0.        , 0.        ],\n",
              "       [0.        , 0.        , 0.        , 0.        , 0.        ,\n",
              "        0.        , 0.        , 0.        , 0.        , 0.        ,\n",
              "        0.        , 0.        , 0.        , 0.        , 0.        ,\n",
              "        0.0860663 , 0.        , 0.12909944, 0.        , 0.        ,\n",
              "        0.        , 0.        , 0.        , 0.        , 0.        ,\n",
              "        0.        , 0.        , 0.        ],\n",
              "       [0.        , 0.        , 0.        , 0.        , 0.        ,\n",
              "        0.        , 0.        , 0.        , 0.        , 0.        ,\n",
              "        0.        , 0.        , 0.0757554 , 0.        , 0.04503773,\n",
              "        0.        , 0.        , 0.        , 0.        , 0.        ,\n",
              "        0.        , 0.        , 0.        , 0.        , 0.08084521,\n",
              "        0.14150983, 0.16169042, 0.        ],\n",
              "       [0.        , 0.        , 0.        , 0.        , 0.        ,\n",
              "        0.        , 0.        , 0.        , 0.        , 0.        ,\n",
              "        0.        , 0.        , 0.        , 0.        , 0.        ,\n",
              "        0.        , 0.        , 0.        , 0.        , 0.        ,\n",
              "        0.        , 0.10540926, 0.        , 0.08084521, 0.        ,\n",
              "        0.04862166, 0.11111111, 0.        ],\n",
              "       [0.0174342 , 0.        , 0.        , 0.        , 0.        ,\n",
              "        0.        , 0.        , 0.        , 0.        , 0.        ,\n",
              "        0.        , 0.07532436, 0.09112114, 0.        , 0.02708645,\n",
              "        0.08421519, 0.        , 0.08421519, 0.        , 0.        ,\n",
              "        0.        , 0.        , 0.        , 0.14150983, 0.04862166,\n",
              "        0.        , 0.14586499, 0.0879599 ],\n",
              "       [0.        , 0.        , 0.        , 0.        , 0.        ,\n",
              "        0.        , 0.        , 0.        , 0.        , 0.        ,\n",
              "        0.        , 0.        , 0.        , 0.        , 0.        ,\n",
              "        0.        , 0.        , 0.        , 0.        , 0.09245003,\n",
              "        0.        , 0.        , 0.        , 0.16169042, 0.11111111,\n",
              "        0.14586499, 0.        , 0.        ],\n",
              "       [0.        , 0.        , 0.        , 0.        , 0.        ,\n",
              "        0.        , 0.        , 0.        , 0.        , 0.        ,\n",
              "        0.        , 0.        , 0.        , 0.        , 0.1119785 ,\n",
              "        0.11605177, 0.        , 0.        , 0.        , 0.        ,\n",
              "        0.        , 0.        , 0.        , 0.        , 0.        ,\n",
              "        0.0879599 , 0.        , 0.        ]])"
            ]
          },
          "metadata": {
            "tags": []
          },
          "execution_count": 114
        }
      ]
    },
    {
      "cell_type": "markdown",
      "metadata": {
        "id": "P0cNHH5hIS0n"
      },
      "source": [
        "### Applying PageRank Algorithm\n",
        "Rank sentences in similarity martix"
      ]
    },
    {
      "cell_type": "code",
      "metadata": {
        "id": "EfJSpJjSH8M9"
      },
      "source": [
        "sentence_similarity_graph = nx.from_numpy_array(sentence_similarity_martix)\n",
        "scores = nx.pagerank(sentence_similarity_graph)"
      ],
      "execution_count": null,
      "outputs": []
    },
    {
      "cell_type": "markdown",
      "metadata": {
        "id": "Skns6GqIIxL_"
      },
      "source": [
        "Sort the rank and pick top sentences"
      ]
    },
    {
      "cell_type": "code",
      "metadata": {
        "colab": {
          "base_uri": "https://localhost:8080/"
        },
        "id": "re171IMOIxll",
        "outputId": "ad8ef793-50b0-4cee-dc41-cacb94eb082f"
      },
      "source": [
        "ranked_sentence = sorted(((scores[i],s) for i,s in enumerate(sentences)), reverse=True)    \n",
        "print(\"Indexes of top ranked_sentence order are \", ranked_sentence)    \n",
        "summarize_text = []\n",
        "for i in range(3):\n",
        "    summarize_text.append(\" \".join(ranked_sentence[i][1]))"
      ],
      "execution_count": null,
      "outputs": [
        {
          "output_type": "stream",
          "text": [
            "Indexes of top ranked_sentence order are  [(0.06600728632229283, ['We', 'have', 'a', 'record', 'number', 'of', 'Republican', 'women', 'in', 'Congress', 'and', 'I’m', 'especially', 'proud', 'to', 'be', 'one', 'of', 'them']), (0.05863498073894696, ['You', 'know,', 'I’m', 'not', 'going', 'to', 'stop', 'and', 'say,', '“Did', 'you', 'vote', 'for', 'me?”', 'I’m', 'going', 'to', 'work', 'to', 'find', 'common', 'ground.\\n\\nWe', 'need', 'to', 'agree', 'to', 'get', 'additional', 'support', 'for', 'our', 'families,', 'additional', 'P.P.P']), (0.0566142222483702, ['So', 'we', 'focused', 'on', 'getting', 'our', 'message', 'to', 'voters,', 'to', 'constituents:', 'It’s', 'about', 'fixing', 'the', 'gridlock', 'and', 'not', 'being', 'part', 'of', 'the', 'status', 'quo,', 'which', 'people', 'are', 'sick', 'and', 'tired', 'of.\\n\\nThey', 'were', 'looking', 'for', 'someone', 'who', 'can', 'work', 'in', 'a', 'bipartisan', 'manner,', 'and', 'I’m', 'focused', 'on', 'moving', 'forward,', 'healing', 'the', 'divide', 'and', 'reaching', 'out', 'to', 'all', 'community', 'groups']), (0.0560293697960568, ['But', 'Ms', 'Kim', 'was', 'among', 'the', 'four', 'Republicans', '', 'to', 'narrowly', 'recapture', 'those', 'seats.\\n\\n\\n\\nNow,', 'Ms', 'Kim,', 'along', 'with', 'her', 'fellow', 'Orange', 'County', 'Republican', 'Michelle', 'Steel,', 'will', 'be', 'among', 'the', 'first', 'three', 'Korean-American', 'women', 'in', 'Congress']), (0.052925091576845384, ['Good', 'morning.\\n\\nAlmost', 'exactly', 'a', 'month', 'ago', '—', 'and', 'a', 'full', '10', 'days', 'after', 'Election', 'Day', '—', 'Young', 'Kim', 'became', 'the', 'official', 'winner', 'of', 'a', 'close,', 'hard-fought', 'race', 'to', 'represent', 'California’s', '39th', 'Congressional', 'District.\\n\\nThe', 'race', 'was', 'a', 'rematch', 'between', 'Ms', 'Kim,', 'a', 'Republican', 'former', 'state', 'lawmaker,', 'and', 'Representative', 'Gil', 'Cisneros,', 'who', 'narrowly', 'clinched', 'the', 'Northern', 'Orange', 'County-area', 'seat', 'as', 'part', 'of', 'the', '2018', '“blue', 'wave,”', 'in', 'which', 'Democrats', 'were', 'ushered', 'into', 'seats', 'that', 'had', 'previously', 'been', 'solidly', 'in', 'Republican', 'hands.\\n\\n\\n\\nThe', 'Democratic', 'victories,', 'particularly', 'in', 'Orange', 'County,', 'were', 'taken', 'as', 'evidence', 'of', 'the', 'state’s', 'firm', 'rejection', 'of', 'the', 'president', 'when', 'he', 'wasn’t', 'on', 'the', 'ballot']), (0.052714402477512703, ['They', 'see', 'those', 'more', 'as', 'assets.\\n\\nHow', 'are', 'you', 'thinking', 'about', 'the', 'Republican', 'Party', 'specifically', 'in', 'California', 'in', 'the', 'post-Trump', 'era?\\n\\nWe', 'knew', 'in', 'California', 'that', 'President', 'Trump', 'was', 'not', 'going', 'to', 'win']), (0.04616860773909154, ['That’s', 'how', 'I’m', 'going', 'to', 'work.\\n\\nYou’ve', 'said', 'that', 'the', 'state’s', 'stay-at-home', 'orders', 'are', 'too', 'restrictive', 'and', 'unfairly', 'hurt', 'small', 'businesses']), (0.04615954538176418, ['I’m', 'just', 'glad', 'our', 'heads', 'are', 'still', 'intact.\\n\\nTalk', 'to', 'me', 'about', 'what', 'it', 'means', 'to', 'be', 'one', 'of', 'the', 'first', 'Korean-American', 'women', 'elected', 'to', 'Congress']), (0.0451062065163465, ['Our', 'governor', 'can’t', 'say,', '“Do', 'as', 'I', 'say,', 'not', 'as', 'I', 'do.”\\n\\nAll', 'I', 'ask', 'is:', 'If', 'it', 'affects', 'us,', 'are', 'we', 'doing', 'something', 'that', 'is', 'reasonable?\\n\\n\\n\\nWhat', 'would', 'you', 'say', 'to', 'people,', 'including', 'your', 'constituents,', 'who', 'have', 'resisted', 'mask', 'mandates', 'or', 'other', 'public', 'health', 'rules?\\n\\nI', 'would', 'say', 'to', 'be', 'responsible', 'and', 'follow', 'simple', 'public', 'health', 'guidelines,', 'so', 'we', 'can', 'continue', 'to', 'function', 'and', 'go', 'back', 'to', 'work', 'safely.\\n\\nBut', 'we', 'needed', 'to', 'do', 'it', 'in', 'the', 'very', 'beginning,', 'without', 'having', 'different', 'guidelines', 'for', 'different', 'parts', 'of', 'the', 'state', 'or', 'the', 'counties']), (0.04407840956302888, ['Last', 'week,', 'I', 'spoke', 'with', 'Ms', 'Kim', 'about', 'that', 'historic', 'distinction,', 'the', 'pandemic', 'and', 'the', 'California', 'Republican', 'Party', 'after', 'Trump.\\n\\nHere’s', 'our', 'conversation,', 'lightly', 'edited', 'and', 'condensed', 'for', 'length', 'and', 'clarity:\\n\\nCongratulations', 'on', 'the', 'win!', 'Tell', 'me', 'about', 'what', 'your', 'last', 'couple', 'of', 'weeks', 'have', 'been', 'like.\\n\\nIt’s', 'been', 'a', 'whirlwind']), (0.04093433988426504, ['So', 'it’s', 'just', 'been', 'a', 'lot', 'of', 'getting', 'adjusted']), (0.035179360671041125, ['It’s', 'not', 'a', 'Young', 'Kim', 'or', 'Gil', 'Cisneros', 'issue']), (0.034342503993039716, ['We', 'need', 'to', 'address', 'out-of-control', 'health', 'care', 'prices', 'so', 'many', 'people', 'face', 'every', 'day.\\n\\nThis', 'is', 'not', 'a', 'Trump', 'or', 'Biden', 'issue']), (0.034015705581885394, ['And', 'what', 'do', 'you', 'hope', 'your', 'election', 'says', 'about', 'the', 'future', 'of', 'the', 'Republican', 'Party?\\n\\nIt', 'says', 'a', 'lot', 'about', 'how', 'the', 'times', 'have', 'changed']), (0.033266873621638215, ['Our', 'Republican', 'Party', 'has', 'been', 'very', 'aggressive', 'in', 'recruiting', 'quality', 'candidates', 'who', 'happen', 'to', 'be', 'women.\\n\\nThey', 'really', 'wanted', 'to', 'not', 'just', 'recruit', 'us,', 'but', 'to', 'provide', 'the', 'support', 'we', 'needed', 'to', 'get', 'out', 'of', 'the', 'primaries']), (0.033064709768617494, ['That’s', 'why', 'we’re', 'in', 'this', 'situation.\\n\\nBut', 'it', 'is', 'what', 'it', 'is', 'right', 'now,', 'so', 'let’s', 'be', 'responsible', 'and', 'follow', 'these', 'guidelines']), (0.03247921288735718, ['Many', 'organizations,', 'including', 'the', 'Elevate', 'PAC,', 'in', 'addition', 'to', 'the', 'VIEW', 'PAC', 'and', 'Winning', 'for', 'Women,', 'have', 'really', 'focused', 'on', 'helping', 'women', 'Republicans', 'run', 'so', 'we', 'have', 'more', 'of', 'a', 'chance', 'in', 'the', 'general', 'elections.\\n\\nCALIFORNIA', 'TODAY:', 'The', 'news', 'and', 'stories', 'that', 'matter', 'to', 'Californians', '.\\nSign', 'Up\\nIt', 'says', 'there', 'are', 'efforts', 'to', 'grow', 'our', 'party', 'by', 'including', 'many', 'individuals', '—', 'like', 'me,', 'an', 'immigrant,', 'a', 'mother', 'of', 'four,', 'someone', 'who', 'speaks', 'different', 'languages']), (0.03244095150154902, ['But', 'thousands', 'of', 'people', 'are', 'dying', 'and', 'millions', 'are', 'getting', 'sick']), (0.03215201465610524, ['I’m', 'just', 'blown', 'away', 'by', 'the', 'level', 'of', 'qualification', 'they', 'bring', 'to', 'this', 'class']), (0.03187910758229471, ['We’ve', 'seen', 'arbitrary', 'rules,', 'like', 'those', 'targeting', 'nail', 'salons,', 'undermine', 'public', 'trust.\\n\\nWe', 'must', 'make', 'individuals', 'responsible', 'for', 'following', 'guidelines', 'and', 'looking', 'out', 'for', 'the', 'well-being', 'of', 'others']), (0.02908532016249079, ['So', 'I', 'want', 'to', 'see', 'consistent', 'guidelines', 'and', 'consistent', 'policies', 'coming', 'from', 'our', 'leaders']), (0.02135533576566196, ['I’ve', 'been', 'getting', 'all', 'the', 'congratulatory', 'messages', 'from', 'everyone', 'who', 'supported', 'me', 'from', 'my', 'family', 'and', 'friends,', 'relatives', 'and', 'communities.\\n\\nUnlock', 'more', 'free', 'articles.\\nCreate', 'an', 'account', 'or', 'log', 'in\\nThe', 'last', 'two', 'weeks', 'I’ve', 'been', 'in', 'Washington,', 'D.C.,', 'and', 'meeting', 'my', 'fellow', 'freshman', 'class']), (0.01887306892849144, ['They', 'work', 'only', 'if', 'we', 'all', 'work', 'together.\\n\\nBeyond', 'the', 'pandemic,', 'what', 'are', 'your', 'top', 'priorities?\\n\\nMy', 'first', 'priority', 'is', 'making', 'sure', 'we', 'get', 'through', 'this', 'crisis']), (0.01654220218322499, ['So', 'the', 'rematches', 'in', '2020', 'were', 'closely', 'watched', 'tests', 'of', 'the', 'durability', 'of', 'leftward', 'shifts.\\n\\nThe', 'results?', 'Well,', 'the', 'president', 'lost', 'in', 'California', 'by', 'a', 'huge', 'margin']), (0.014856341386578036, ['So', 'when', 'they', 'institute', 'restrictions', 'that', 'seem', 'too', 'harsh,', 'we', 'need', 'to', 'talk', 'about', 'them']), (0.012889887013937281, ['What', 'do', 'you', 'think', 'is', 'an', 'appropriate', 'solution?\\n\\nFirst', 'of', 'all,', 'as', 'leaders', 'and', 'policymakers,', 'and', 'the', 'government', 'itself,', 'we', 'must', 'take', 'a', 'common-sense', 'approach']), (0.011312181437895478, ['I', 'won', 'the', 'lottery,', 'so', 'I', 'got', 'the', 'first', 'choice', 'for', 'my', 'office.\\n\\nWe’ve', 'just', 'been', 'very', 'busy,', 'since', 'I', 'had', 'to', 'wait', '10', 'days', 'before', 'my', 'race', 'was', 'called']), (0.010892760613670997, ['money', 'for', 'our', 'businesses', 'and', 'to', 'safely', 'open', 'our', 'economy', 'again'])]\n"
          ],
          "name": "stdout"
        }
      ]
    },
    {
      "cell_type": "markdown",
      "metadata": {
        "id": "xQC3xC5KJfOu"
      },
      "source": [
        "output"
      ]
    },
    {
      "cell_type": "code",
      "metadata": {
        "colab": {
          "base_uri": "https://localhost:8080/"
        },
        "id": "YJk1nQboJenH",
        "outputId": "35271b2f-341f-4291-bcb8-25b658d68e8b"
      },
      "source": [
        "print(\"Summarize Text: \\n\", \". \".join(summarize_text))"
      ],
      "execution_count": null,
      "outputs": [
        {
          "output_type": "stream",
          "text": [
            "Summarize Text: \n",
            " We have a record number of Republican women in Congress and I’m especially proud to be one of them. You know, I’m not going to stop and say, “Did you vote for me?” I’m going to work to find common ground.\n",
            "\n",
            "We need to agree to get additional support for our families, additional P.P.P. So we focused on getting our message to voters, to constituents: It’s about fixing the gridlock and not being part of the status quo, which people are sick and tired of.\n",
            "\n",
            "They were looking for someone who can work in a bipartisan manner, and I’m focused on moving forward, healing the divide and reaching out to all community groups\n"
          ],
          "name": "stdout"
        }
      ]
    },
    {
      "cell_type": "markdown",
      "metadata": {
        "id": "ltmK8nYZJNDu"
      },
      "source": [
        "## 3 \n",
        "\n",
        "## Sumy package\n",
        "\n",
        " Implemented summarization methods:\n",
        "\n",
        "Luhn - heurestic method, \n",
        "\n",
        "Edmundson heurestic method with previous statistic research, \n",
        "\n",
        "Latent Semantic Analysis, LSA - one of the algorithm from http://scholar.google.com/citations?user=0fTuW_YAAAAJ&hl=en \n",
        "\n",
        "LexRank - Unsupervised approach inspired by algorithms PageRank and HITS, \n",
        "\n",
        "TextRank - Unsupervised approach, also using PageRank algorithm, \n",
        "\n",
        "SumBasic - Method that is often used as a baseline in the literature. \n",
        "\n",
        "KL-Sum - Method that greedily adds sentences to a summary so long as it decreases the KL Divergence. \n",
        "\n",
        "Reduction - Graph-based summarization, where a sentence salience is computed as the sum of the weights of its edges to other sentences. The weight of an edge between two sentences is computed in the same manner as TextRank."
      ]
    },
    {
      "cell_type": "code",
      "metadata": {
        "id": "mfWnZYHqJQ1j"
      },
      "source": [
        "!pip install sumy"
      ],
      "execution_count": null,
      "outputs": []
    },
    {
      "cell_type": "code",
      "metadata": {
        "colab": {
          "base_uri": "https://localhost:8080/"
        },
        "id": "p6G7dleGLAom",
        "outputId": "0be8214a-2892-4bcf-f42d-fba1e7632518"
      },
      "source": [
        "import nltk\n",
        "nltk.download('punkt')"
      ],
      "execution_count": null,
      "outputs": [
        {
          "output_type": "stream",
          "text": [
            "[nltk_data] Downloading package punkt to /root/nltk_data...\n",
            "[nltk_data]   Unzipping tokenizers/punkt.zip.\n"
          ],
          "name": "stdout"
        },
        {
          "output_type": "execute_result",
          "data": {
            "text/plain": [
              "True"
            ]
          },
          "metadata": {
            "tags": []
          },
          "execution_count": 145
        }
      ]
    },
    {
      "cell_type": "code",
      "metadata": {
        "colab": {
          "base_uri": "https://localhost:8080/"
        },
        "id": "O1w0_LlsJS2T",
        "outputId": "281b2326-b8b9-4482-fea4-bc2a60cd513b"
      },
      "source": [
        "from __future__ import absolute_import\n",
        "from __future__ import division, print_function, unicode_literals\n",
        "\n",
        "from sumy.parsers.html import HtmlParser\n",
        "from sumy.parsers.plaintext import PlaintextParser\n",
        "from sumy.nlp.tokenizers import Tokenizer\n",
        "from sumy.summarizers.lsa import LsaSummarizer as Summarizer\n",
        "from sumy.nlp.stemmers import Stemmer\n",
        "from sumy.utils import get_stop_words\n",
        "\n",
        "\n",
        "LANGUAGE = \"english\"\n",
        "SENTENCES_COUNT = 3\n",
        "\n",
        "\n",
        "if __name__ == \"__main__\":\n",
        "    \n",
        "    parser = PlaintextParser.from_string(text, Tokenizer(LANGUAGE))\n",
        "    stemmer = Stemmer(LANGUAGE)\n",
        "\n",
        "    summarizer = Summarizer(stemmer)\n",
        "    summarizer.stop_words = get_stop_words(LANGUAGE)\n",
        "\n",
        "    for sentence in summarizer(parser.document, SENTENCES_COUNT):\n",
        "        print(sentence)"
      ],
      "execution_count": null,
      "outputs": [
        {
          "output_type": "stream",
          "text": [
            "The Democratic victories, particularly in Orange County, were taken as evidence of the state’s firm rejection of the president when he wasn’t on the ballot.\n",
            "So we focused on getting our message to voters, to constituents: It’s about fixing the gridlock and not being part of the status quo, which people are sick and tired of.\n",
            "They were looking for someone who can work in a bipartisan manner, and I’m focused on moving forward, healing the divide and reaching out to all community groups.\n"
          ],
          "name": "stdout"
        }
      ]
    },
    {
      "cell_type": "markdown",
      "metadata": {
        "id": "OsNKvXssMlTl"
      },
      "source": [
        "## 4\n",
        "##Pysummarization\n",
        "\n",
        " And this library applies accel-brain-base to implement Encoder/Decoder based on LSTM improving the accuracy of summarization by Sequence-to-Sequence(Seq2Seq) learning."
      ]
    },
    {
      "cell_type": "code",
      "metadata": {
        "id": "KMT4BimHJ6fc"
      },
      "source": [
        "!pip install pysummarization"
      ],
      "execution_count": null,
      "outputs": []
    },
    {
      "cell_type": "code",
      "metadata": {
        "id": "ghREGAGXM0sF"
      },
      "source": [
        "from pysummarization.nlpbase.auto_abstractor import AutoAbstractor\n",
        "from pysummarization.tokenizabledoc.simple_tokenizer import SimpleTokenizer\n",
        "from pysummarization.abstractabledoc.top_n_rank_abstractor import TopNRankAbstractor"
      ],
      "execution_count": null,
      "outputs": []
    },
    {
      "cell_type": "code",
      "metadata": {
        "colab": {
          "base_uri": "https://localhost:8080/"
        },
        "id": "Z4g3Il6nM9zl",
        "outputId": "44bffae6-9e73-4672-db25-8a3779a06b89"
      },
      "source": [
        "# Object of automatic summarization.\n",
        "auto_abstractor = AutoAbstractor()\n",
        "# Set tokenizer.\n",
        "auto_abstractor.tokenizable_doc = SimpleTokenizer()\n",
        "# Set delimiter for making a list of sentence.\n",
        "auto_abstractor.delimiter_list = [\".\", \"\\n\"]\n",
        "# Object of abstracting and filtering document.\n",
        "abstractable_doc = TopNRankAbstractor()\n",
        "# Summarize document.\n",
        "result_dict = auto_abstractor.summarize(text, abstractable_doc)\n",
        "\n",
        "# Output result.\n",
        "for sentence in result_dict[\"summarize_result\"]:\n",
        "    print(sentence)"
      ],
      "execution_count": null,
      "outputs": [
        {
          "output_type": "stream",
          "text": [
            "Almost exactly a month ago — and a full 10 days after Election Day — Young Kim became the official winner of a close, hard-fought race to represent California’s 39th Congressional District.\n",
            "\n",
            "The race was a rematch between Ms Kim, a Republican former state lawmaker, and Representative Gil Cisneros, who narrowly clinched the Northern Orange County-area seat as part of the 2018 “blue wave,” in which Democrats were ushered into seats that had previously been solidly in Republican hands.\n",
            "\n",
            "The Democratic victories, particularly in Orange County, were taken as evidence of the state’s firm rejection of the president when he wasn’t on the ballot.\n",
            "\n",
            " So the rematches in 2020 were closely watched tests of the durability of leftward shifts.\n",
            "\n",
            "The results? Well, the president lost in California by a huge margin.\n",
            "\n",
            " But Ms Kim was among the four Republicans  to narrowly recapture those seats.\n",
            "\n",
            " Last week, I spoke with Ms Kim about that historic distinction, the pandemic and the California Republican Party after Trump.\n",
            "\n",
            "We’ve just been very busy, since I had to wait 10 days before my race was called.\n",
            "\n",
            " It’s not a Young Kim or Gil Cisneros issue.\n",
            "\n",
            "You’ve said that the state’s stay-at-home orders are too restrictive and unfairly hurt small businesses.\n",
            "\n"
          ],
          "name": "stdout"
        }
      ]
    },
    {
      "cell_type": "code",
      "metadata": {
        "colab": {
          "base_uri": "https://localhost:8080/"
        },
        "id": "g2KmJwC5OcPX",
        "outputId": "cbe04945-c595-4f14-e958-edc25b5d0627"
      },
      "source": [
        "result_dict['scoring_data']"
      ],
      "execution_count": null,
      "outputs": [
        {
          "output_type": "execute_result",
          "data": {
            "text/plain": [
              "[(1, 24.3),\n",
              " (2, 39.093023255813954),\n",
              " (3, 18.181818181818183),\n",
              " (4, 10.285714285714286),\n",
              " (5, 10.0),\n",
              " (6, 5.818181818181818),\n",
              " (8, 4.571428571428571),\n",
              " (22, 4.0),\n",
              " (45, 3.2),\n",
              " (47, 3.0)]"
            ]
          },
          "metadata": {
            "tags": []
          },
          "execution_count": 160
        }
      ]
    },
    {
      "cell_type": "markdown",
      "metadata": {
        "id": "aKDT-eZoPOyX"
      },
      "source": [
        "##5\n",
        "##Gensim summarizer \n",
        "\n",
        "Returns a summarized version of the given text using a variation of the TextRank algorithm. The input must be longer than INPUT_MIN_LENGTH sentences for the summary to make sense and must be given as a string.\n",
        "\n",
        "The output summary will consist of the most representative sentences and will also be returned as a string, divided by newlines. If the split parameter is set to True, a list of sentences will be returned.\n",
        "\n",
        "The length of the output can be specified using the ratio and word_count parameters:\n",
        "\n",
        "ratio should be a number between 0 and 1 that determines the\n",
        "percentage of the number of sentences of the original text to be chosen for the summary (defaults at 0.2).\n",
        "\n",
        "word_count determines how many words will the output contain.\n",
        "If both parameters are provided, the ratio will be ignored."
      ]
    },
    {
      "cell_type": "code",
      "metadata": {
        "colab": {
          "base_uri": "https://localhost:8080/",
          "height": 52
        },
        "id": "uEo28WIaOh6K",
        "outputId": "33c2d57f-3e43-41d1-c370-b75580b8d496"
      },
      "source": [
        "import nltk\n",
        "import gensim\n",
        "\n",
        "\n",
        "gensim_summary = gensim.summarization.summarize(text,word_count=70)\n",
        "gensim_summary"
      ],
      "execution_count": null,
      "outputs": [
        {
          "output_type": "execute_result",
          "data": {
            "application/vnd.google.colaboratory.intrinsic+json": {
              "type": "string"
            },
            "text/plain": [
              "'Now, Ms Kim, along with her fellow Orange County Republican Michelle Steel, will be among the first three Korean-American women in Congress.\\nLast week, I spoke with Ms Kim about that historic distinction, the pandemic and the California Republican Party after Trump.\\nHow are you thinking about the Republican Party specifically in California in the post-Trump era?'"
            ]
          },
          "metadata": {
            "tags": []
          },
          "execution_count": 165
        }
      ]
    },
    {
      "cell_type": "code",
      "metadata": {
        "id": "nswyMs3LIrAe"
      },
      "source": [
        ""
      ],
      "execution_count": null,
      "outputs": []
    }
  ]
}